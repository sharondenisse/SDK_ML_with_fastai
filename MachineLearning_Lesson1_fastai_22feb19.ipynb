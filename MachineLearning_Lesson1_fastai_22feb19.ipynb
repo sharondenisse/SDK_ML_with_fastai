{
  "nbformat": 4,
  "nbformat_minor": 0,
  "metadata": {
    "colab": {
      "name": "MachineLearning_Lesson1-rf_07feb19.ipynb",
      "version": "0.3.2",
      "provenance": [],
      "toc_visible": true,
      "include_colab_link": true
    },
    "kernelspec": {
      "name": "python3",
      "display_name": "Python 3"
    },
    "accelerator": "GPU"
  },
  "cells": [
    {
      "cell_type": "markdown",
      "metadata": {
        "id": "view-in-github",
        "colab_type": "text"
      },
      "source": [
        "<a href=\"https://colab.research.google.com/github/sharondenisse/SDK_ML_with_fastai/blob/master/MachineLearning_Lesson1_fastai_22feb19.ipynb\" target=\"_parent\"><img src=\"https://colab.research.google.com/assets/colab-badge.svg\" alt=\"Open In Colab\"/></a>"
      ]
    },
    {
      "metadata": {
        "id": "BhSevwoYPNVx",
        "colab_type": "text"
      },
      "cell_type": "markdown",
      "source": [
        "# Intro to Random Forests"
      ]
    },
    {
      "metadata": {
        "id": "v72mTOypPNWE",
        "colab_type": "text"
      },
      "cell_type": "markdown",
      "source": [
        "## About this course"
      ]
    },
    {
      "metadata": {
        "id": "Xan2UUGpPNWY",
        "colab_type": "text"
      },
      "cell_type": "markdown",
      "source": [
        "### Teaching approach"
      ]
    },
    {
      "metadata": {
        "id": "aRqVY6KDPNWu",
        "colab_type": "text"
      },
      "cell_type": "markdown",
      "source": [
        "This course is being taught by Jeremy Howard, and was developed by Jeremy along with Rachel Thomas. Rachel has been dealing with a life-threatening illness so will not be teaching as originally planned this year.\n",
        "\n",
        "Jeremy has worked in a number of different areas - feel free to ask about anything that he might be able to help you with at any time, even if not directly related to the current topic:\n",
        "\n",
        "- Management consultant (McKinsey; AT Kearney)\n",
        "- Self-funded startup entrepreneur (Fastmail: first consumer synchronized email; Optimal Decisions: first optimized insurance pricing)\n",
        "- VC-funded startup entrepreneur: (Kaggle; Enlitic: first deep-learning medical company)"
      ]
    },
    {
      "metadata": {
        "id": "_LNclMAjPNW7",
        "colab_type": "text"
      },
      "cell_type": "markdown",
      "source": [
        "I'll be using a *top-down* teaching method, which is different from how most math courses operate.  Typically, in a *bottom-up* approach, you first learn all the separate components you will be using, and then you gradually build them up into more complex structures.  The problems with this are that students often lose motivation, don't have a sense of the \"big picture\", and don't know what they'll need.\n",
        "\n",
        "If you took the fast.ai deep learning course, that is what we used.  You can hear more about my teaching philosophy [in this blog post](http://www.fast.ai/2016/10/08/teaching-philosophy/) or [in this talk](https://vimeo.com/214233053).\n",
        "\n",
        "Harvard Professor David Perkins has a book, [Making Learning Whole](https://www.amazon.com/Making-Learning-Whole-Principles-Transform/dp/0470633719) in which he uses baseball as an analogy.  We don't require kids to memorize all the rules of baseball and understand all the technical details before we let them play the game.  Rather, they start playing with a just general sense of it, and then gradually learn more rules/details as time goes on.\n",
        "\n",
        "All that to say, don't worry if you don't understand everything at first!  You're not supposed to.  We will start using some \"black boxes\" such as random forests that haven't yet been explained in detail, and then we'll dig into the lower level details later.\n",
        "\n",
        "To start, focus on what things DO, not what they ARE."
      ]
    },
    {
      "metadata": {
        "id": "uVO3ijGSPNXF",
        "colab_type": "text"
      },
      "cell_type": "markdown",
      "source": [
        "### Your practice"
      ]
    },
    {
      "metadata": {
        "id": "PCIXA4tHPNXN",
        "colab_type": "text"
      },
      "cell_type": "markdown",
      "source": [
        "People learn by:\n",
        "\n",
        "1. **doing** (coding and building)\n",
        "2. **explaining** what they've learned (by writing or helping others)\n",
        "\n",
        "Therefore, we suggest that you practice these skills on Kaggle by:\n",
        "1. Entering competitions (*doing*)\n",
        "2. Creating Kaggle kernels (*explaining*)\n",
        "\n",
        "It's OK if you don't get good competition ranks or any kernel votes at first - that's totally normal! Just try to keep improving every day, and you'll see the results over time."
      ]
    },
    {
      "metadata": {
        "id": "wouLWNBfPNXa",
        "colab_type": "text"
      },
      "cell_type": "markdown",
      "source": [
        "To get better at technical writing, study the top ranked Kaggle kernels from past competitions, and read posts from well-regarded technical bloggers. Some good role models include:\n",
        "\n",
        "- [Peter Norvig](http://nbviewer.jupyter.org/url/norvig.com/ipython/ProbabilityParadox.ipynb) (more [here](http://norvig.com/ipython/))\n",
        "- [Stephen Merity](https://smerity.com/articles/2017/deepcoder_and_ai_hype.html)\n",
        "- [Julia Evans](https://codewords.recurse.com/issues/five/why-do-neural-networks-think-a-panda-is-a-vulture) (more [here](https://jvns.ca/blog/2014/08/12/what-happens-if-you-write-a-tcp-stack-in-python/))\n",
        "- [Julia Ferraioli](http://blog.juliaferraioli.com/2016/02/exploring-world-using-vision-twilio.html)\n",
        "- [Edwin Chen](http://blog.echen.me/2014/10/07/moving-beyond-ctr-better-recommendations-through-human-evaluation/)\n",
        "- [Slav Ivanov](https://blog.slavv.com/picking-an-optimizer-for-style-transfer-86e7b8cba84b) (fast.ai student)\n",
        "- [Brad Kenstler](https://hackernoon.com/non-artistic-style-transfer-or-how-to-draw-kanye-using-captain-picards-face-c4a50256b814) (fast.ai and USF MSAN student)"
      ]
    },
    {
      "metadata": {
        "id": "AnXLwopRPNXl",
        "colab_type": "text"
      },
      "cell_type": "markdown",
      "source": [
        "### Books"
      ]
    },
    {
      "metadata": {
        "id": "ufdstteVPNXs",
        "colab_type": "text"
      },
      "cell_type": "markdown",
      "source": [
        "The more familiarity you have with numeric programming in Python, the better. If you're looking to improve in this area, we strongly suggest Wes McKinney's [Python for Data Analysis, 2nd ed](https://www.amazon.com/Python-Data-Analysis-Wrangling-IPython/dp/1491957662/ref=asap_bc?ie=UTF8).\n",
        "\n",
        "For machine learning with Python, we recommend:\n",
        "\n",
        "- [Introduction to Machine Learning with Python](https://www.amazon.com/Introduction-Machine-Learning-Andreas-Mueller/dp/1449369413): From one of the scikit-learn authors, which is the main library we'll be using\n",
        "- [Python Machine Learning: Machine Learning and Deep Learning with Python, scikit-learn, and TensorFlow, 2nd Edition](https://www.amazon.com/Python-Machine-Learning-scikit-learn-TensorFlow/dp/1787125939/ref=dp_ob_title_bk): New version of a very successful book. A lot of the new material however covers deep learning in Tensorflow, which isn't relevant to this course\n",
        "- [Hands-On Machine Learning with Scikit-Learn and TensorFlow](https://www.amazon.com/Hands-Machine-Learning-Scikit-Learn-TensorFlow/dp/1491962291/ref=pd_lpo_sbs_14_t_0?_encoding=UTF8&psc=1&refRID=MBV2QMFH3EZ6B3YBY40K)\n"
      ]
    },
    {
      "metadata": {
        "id": "OtCCZPWHPNX7",
        "colab_type": "text"
      },
      "cell_type": "markdown",
      "source": [
        "### Syllabus in brief"
      ]
    },
    {
      "metadata": {
        "id": "oo4AP3_KPNYF",
        "colab_type": "text"
      },
      "cell_type": "markdown",
      "source": [
        "Depending on time and class interests, we'll cover something like (not necessarily in this order):\n",
        "\n",
        "- Train vs test\n",
        "  - Effective validation set construction\n",
        "- Trees and ensembles\n",
        "  - Creating random forests\n",
        "  - Interpreting random forests\n",
        "- What is ML?  Why do we use it?\n",
        "  - What makes a good ML project?\n",
        "  - Structured vs unstructured data\n",
        "  - Examples of failures/mistakes\n",
        "- Feature engineering\n",
        "  - Domain specific - dates, URLs, text\n",
        "  - Embeddings / latent factors\n",
        "- Regularized models trained with SGD\n",
        "  - GLMs, Elasticnet, etc (NB: see what James covered)\n",
        "- Basic neural nets\n",
        "  - PyTorch\n",
        "  - Broadcasting, Matrix Multiplication\n",
        "  - Training loop, backpropagation\n",
        "- KNN\n",
        "- CV / bootstrap (Diabetes data set?)\n",
        "- Ethical considerations"
      ]
    },
    {
      "metadata": {
        "id": "li1PdDvgPNYJ",
        "colab_type": "text"
      },
      "cell_type": "markdown",
      "source": [
        "Skip:\n",
        "\n",
        "- Dimensionality reduction\n",
        "- Interactions\n",
        "- Monitoring training\n",
        "- Collaborative filtering\n",
        "- Momentum and LR annealing\n"
      ]
    },
    {
      "metadata": {
        "id": "mGq0jvrSPNYM",
        "colab_type": "text"
      },
      "cell_type": "markdown",
      "source": [
        "## Imports"
      ]
    },
    {
      "metadata": {
        "id": "MzBxMTPBPNYR",
        "colab_type": "code",
        "colab": {}
      },
      "cell_type": "code",
      "source": [
        "%load_ext autoreload\n",
        "%autoreload 2\n",
        "\n",
        "%matplotlib inline"
      ],
      "execution_count": 0,
      "outputs": []
    },
    {
      "metadata": {
        "id": "MWgFkIiAYtjj",
        "colab_type": "text"
      },
      "cell_type": "markdown",
      "source": [
        ""
      ]
    },
    {
      "metadata": {
        "id": "kvocv6ymYtyB",
        "colab_type": "code",
        "outputId": "7670d52f-503c-431c-e42a-0a3370db19a5",
        "colab": {
          "base_uri": "https://localhost:8080/",
          "height": 34
        }
      },
      "cell_type": "code",
      "source": [
        "!pip install numpy"
      ],
      "execution_count": 2,
      "outputs": [
        {
          "output_type": "stream",
          "text": [
            "Requirement already satisfied: numpy in /usr/local/lib/python3.6/dist-packages (1.16.1)\n"
          ],
          "name": "stdout"
        }
      ]
    },
    {
      "metadata": {
        "id": "_O3Pc2ucP_ks",
        "colab_type": "code",
        "outputId": "db1a4b20-fcfd-44e5-eb50-fb28169b81f8",
        "colab": {
          "base_uri": "https://localhost:8080/",
          "height": 1330
        }
      },
      "cell_type": "code",
      "source": [
        "!pip install fastai==0.7.0"
      ],
      "execution_count": 3,
      "outputs": [
        {
          "output_type": "stream",
          "text": [
            "Requirement already satisfied: fastai==0.7.0 in /usr/local/lib/python3.6/dist-packages (0.7.0)\n",
            "Requirement already satisfied: wcwidth in /usr/local/lib/python3.6/dist-packages (from fastai==0.7.0) (0.1.7)\n",
            "Requirement already satisfied: cycler in /usr/local/lib/python3.6/dist-packages (from fastai==0.7.0) (0.10.0)\n",
            "Requirement already satisfied: bcolz in /usr/local/lib/python3.6/dist-packages (from fastai==0.7.0) (1.2.1)\n",
            "Requirement already satisfied: isoweek in /usr/local/lib/python3.6/dist-packages (from fastai==0.7.0) (1.3.3)\n",
            "Requirement already satisfied: testpath in /usr/local/lib/python3.6/dist-packages (from fastai==0.7.0) (0.4.2)\n",
            "Requirement already satisfied: torchvision in /usr/local/lib/python3.6/dist-packages (from fastai==0.7.0) (0.2.1)\n",
            "Requirement already satisfied: sklearn-pandas in /usr/local/lib/python3.6/dist-packages (from fastai==0.7.0) (1.8.0)\n",
            "Requirement already satisfied: Jinja2 in /usr/local/lib/python3.6/dist-packages (from fastai==0.7.0) (2.10)\n",
            "Requirement already satisfied: simplegeneric in /usr/local/lib/python3.6/dist-packages (from fastai==0.7.0) (0.8.1)\n",
            "Requirement already satisfied: certifi in /usr/local/lib/python3.6/dist-packages (from fastai==0.7.0) (2018.11.29)\n",
            "Requirement already satisfied: MarkupSafe in /usr/local/lib/python3.6/dist-packages (from fastai==0.7.0) (1.1.0)\n",
            "Requirement already satisfied: jupyter in /usr/local/lib/python3.6/dist-packages (from fastai==0.7.0) (1.0.0)\n",
            "Requirement already satisfied: matplotlib in /usr/local/lib/python3.6/dist-packages (from fastai==0.7.0) (3.0.2)\n",
            "Requirement already satisfied: ptyprocess in /usr/local/lib/python3.6/dist-packages (from fastai==0.7.0) (0.6.0)\n",
            "Requirement already satisfied: widgetsnbextension in /usr/local/lib/python3.6/dist-packages (from fastai==0.7.0) (3.4.2)\n",
            "Requirement already satisfied: jedi in /usr/local/lib/python3.6/dist-packages (from fastai==0.7.0) (0.13.2)\n",
            "Requirement already satisfied: torch<0.4 in /usr/local/lib/python3.6/dist-packages (from fastai==0.7.0) (0.3.1)\n",
            "Requirement already satisfied: ipython-genutils in /usr/local/lib/python3.6/dist-packages (from fastai==0.7.0) (0.2.0)\n",
            "Requirement already satisfied: entrypoints in /usr/local/lib/python3.6/dist-packages (from fastai==0.7.0) (0.3)\n",
            "Requirement already satisfied: tornado in /usr/local/lib/python3.6/dist-packages (from fastai==0.7.0) (4.5.3)\n",
            "Requirement already satisfied: Pygments in /usr/local/lib/python3.6/dist-packages (from fastai==0.7.0) (2.1.3)\n",
            "Requirement already satisfied: traitlets in /usr/local/lib/python3.6/dist-packages (from fastai==0.7.0) (4.3.2)\n",
            "Requirement already satisfied: plotnine in /usr/local/lib/python3.6/dist-packages (from fastai==0.7.0) (0.5.1)\n",
            "Requirement already satisfied: ipywidgets in /usr/local/lib/python3.6/dist-packages (from fastai==0.7.0) (7.4.2)\n",
            "Requirement already satisfied: PyYAML in /usr/local/lib/python3.6/dist-packages (from fastai==0.7.0) (3.13)\n",
            "Requirement already satisfied: opencv-python in /usr/local/lib/python3.6/dist-packages (from fastai==0.7.0) (3.4.5.20)\n",
            "Requirement already satisfied: pandas in /usr/local/lib/python3.6/dist-packages (from fastai==0.7.0) (0.24.1)\n",
            "Requirement already satisfied: scipy in /usr/local/lib/python3.6/dist-packages (from fastai==0.7.0) (1.1.0)\n",
            "Requirement already satisfied: Pillow in /usr/local/lib/python3.6/dist-packages (from fastai==0.7.0) (5.4.1)\n",
            "Requirement already satisfied: pickleshare in /usr/local/lib/python3.6/dist-packages (from fastai==0.7.0) (0.7.5)\n",
            "Requirement already satisfied: python-dateutil in /usr/local/lib/python3.6/dist-packages (from fastai==0.7.0) (2.5.3)\n",
            "Requirement already satisfied: html5lib in /usr/local/lib/python3.6/dist-packages (from fastai==0.7.0) (1.0.1)\n",
            "Requirement already satisfied: torchtext in /usr/local/lib/python3.6/dist-packages (from fastai==0.7.0) (0.3.1)\n",
            "Requirement already satisfied: pyparsing in /usr/local/lib/python3.6/dist-packages (from fastai==0.7.0) (2.3.1)\n",
            "Requirement already satisfied: seaborn in /usr/local/lib/python3.6/dist-packages (from fastai==0.7.0) (0.7.1)\n",
            "Requirement already satisfied: feather-format in /usr/local/lib/python3.6/dist-packages (from fastai==0.7.0) (0.4.0)\n",
            "Requirement already satisfied: webencodings in /usr/local/lib/python3.6/dist-packages (from fastai==0.7.0) (0.5.1)\n",
            "Requirement already satisfied: graphviz in /usr/local/lib/python3.6/dist-packages (from fastai==0.7.0) (0.10.1)\n",
            "Requirement already satisfied: jsonschema in /usr/local/lib/python3.6/dist-packages (from fastai==0.7.0) (2.6.0)\n",
            "Requirement already satisfied: numpy in /usr/local/lib/python3.6/dist-packages (from fastai==0.7.0) (1.16.1)\n",
            "Requirement already satisfied: ipykernel in /usr/local/lib/python3.6/dist-packages (from fastai==0.7.0) (4.6.1)\n",
            "Requirement already satisfied: tqdm in /usr/local/lib/python3.6/dist-packages (from fastai==0.7.0) (4.28.1)\n",
            "Requirement already satisfied: bleach in /usr/local/lib/python3.6/dist-packages (from fastai==0.7.0) (3.1.0)\n",
            "Requirement already satisfied: decorator in /usr/local/lib/python3.6/dist-packages (from fastai==0.7.0) (4.3.2)\n",
            "Requirement already satisfied: ipython in /usr/local/lib/python3.6/dist-packages (from fastai==0.7.0) (5.5.0)\n",
            "Requirement already satisfied: pytz in /usr/local/lib/python3.6/dist-packages (from fastai==0.7.0) (2018.9)\n",
            "Requirement already satisfied: pandas-summary in /usr/local/lib/python3.6/dist-packages (from fastai==0.7.0) (0.0.6)\n",
            "Requirement already satisfied: pyzmq in /usr/local/lib/python3.6/dist-packages (from fastai==0.7.0) (17.0.0)\n",
            "Requirement already satisfied: six in /usr/local/lib/python3.6/dist-packages (from cycler->fastai==0.7.0) (1.11.0)\n",
            "Requirement already satisfied: scikit-learn>=0.15.0 in /usr/local/lib/python3.6/dist-packages (from sklearn-pandas->fastai==0.7.0) (0.20.2)\n",
            "Requirement already satisfied: jupyter-console in /usr/local/lib/python3.6/dist-packages (from jupyter->fastai==0.7.0) (6.0.0)\n",
            "Requirement already satisfied: nbconvert in /usr/local/lib/python3.6/dist-packages (from jupyter->fastai==0.7.0) (5.4.1)\n",
            "Requirement already satisfied: qtconsole in /usr/local/lib/python3.6/dist-packages (from jupyter->fastai==0.7.0) (4.4.3)\n",
            "Requirement already satisfied: notebook in /usr/local/lib/python3.6/dist-packages (from jupyter->fastai==0.7.0) (5.2.2)\n",
            "Requirement already satisfied: kiwisolver>=1.0.1 in /usr/local/lib/python3.6/dist-packages (from matplotlib->fastai==0.7.0) (1.0.1)\n",
            "Requirement already satisfied: parso>=0.3.0 in /usr/local/lib/python3.6/dist-packages (from jedi->fastai==0.7.0) (0.3.4)\n",
            "Requirement already satisfied: patsy>=0.4.1 in /usr/local/lib/python3.6/dist-packages (from plotnine->fastai==0.7.0) (0.5.1)\n",
            "Requirement already satisfied: descartes>=1.1.0 in /usr/local/lib/python3.6/dist-packages (from plotnine->fastai==0.7.0) (1.1.0)\n",
            "Requirement already satisfied: mizani>=0.5.2 in /usr/local/lib/python3.6/dist-packages (from plotnine->fastai==0.7.0) (0.5.3)\n",
            "Requirement already satisfied: statsmodels>=0.8.0 in /usr/local/lib/python3.6/dist-packages (from plotnine->fastai==0.7.0) (0.8.0)\n",
            "Requirement already satisfied: nbformat>=4.2.0 in /usr/local/lib/python3.6/dist-packages (from ipywidgets->fastai==0.7.0) (4.4.0)\n",
            "Requirement already satisfied: requests in /usr/local/lib/python3.6/dist-packages (from torchtext->fastai==0.7.0) (2.18.4)\n",
            "Requirement already satisfied: pyarrow>=0.4.0 in /usr/local/lib/python3.6/dist-packages (from feather-format->fastai==0.7.0) (0.10.0)\n",
            "Requirement already satisfied: jupyter-client in /usr/local/lib/python3.6/dist-packages (from ipykernel->fastai==0.7.0) (5.2.4)\n",
            "Requirement already satisfied: pexpect; sys_platform != \"win32\" in /usr/local/lib/python3.6/dist-packages (from ipython->fastai==0.7.0) (4.6.0)\n",
            "Requirement already satisfied: setuptools>=18.5 in /usr/local/lib/python3.6/dist-packages (from ipython->fastai==0.7.0) (40.8.0)\n",
            "Requirement already satisfied: prompt-toolkit<2.0.0,>=1.0.4 in /usr/local/lib/python3.6/dist-packages (from ipython->fastai==0.7.0) (1.0.15)\n",
            "Requirement already satisfied: jupyter-core in /usr/local/lib/python3.6/dist-packages (from nbconvert->jupyter->fastai==0.7.0) (4.4.0)\n",
            "Requirement already satisfied: mistune>=0.8.1 in /usr/local/lib/python3.6/dist-packages (from nbconvert->jupyter->fastai==0.7.0) (0.8.4)\n",
            "Requirement already satisfied: pandocfilters>=1.4.1 in /usr/local/lib/python3.6/dist-packages (from nbconvert->jupyter->fastai==0.7.0) (1.4.2)\n",
            "Requirement already satisfied: defusedxml in /usr/local/lib/python3.6/dist-packages (from nbconvert->jupyter->fastai==0.7.0) (0.5.0)\n",
            "Requirement already satisfied: terminado>=0.3.3; sys_platform != \"win32\" in /usr/local/lib/python3.6/dist-packages (from notebook->jupyter->fastai==0.7.0) (0.8.1)\n",
            "Requirement already satisfied: palettable in /usr/local/lib/python3.6/dist-packages (from mizani>=0.5.2->plotnine->fastai==0.7.0) (3.1.1)\n",
            "Requirement already satisfied: idna<2.7,>=2.5 in /usr/local/lib/python3.6/dist-packages (from requests->torchtext->fastai==0.7.0) (2.6)\n",
            "Requirement already satisfied: urllib3<1.23,>=1.21.1 in /usr/local/lib/python3.6/dist-packages (from requests->torchtext->fastai==0.7.0) (1.22)\n",
            "Requirement already satisfied: chardet<3.1.0,>=3.0.2 in /usr/local/lib/python3.6/dist-packages (from requests->torchtext->fastai==0.7.0) (3.0.4)\n"
          ],
          "name": "stdout"
        }
      ]
    },
    {
      "metadata": {
        "id": "OoNlbeA0cukG",
        "colab_type": "code",
        "outputId": "224dbe01-dd5a-43d1-969e-e7e16e1b98b1",
        "colab": {
          "base_uri": "https://localhost:8080/",
          "height": 138
        }
      },
      "cell_type": "code",
      "source": [
        "!pip install --upgrade numpy\n",
        "!pip install --upgrade pandas"
      ],
      "execution_count": 4,
      "outputs": [
        {
          "output_type": "stream",
          "text": [
            "Requirement already up-to-date: numpy in /usr/local/lib/python3.6/dist-packages (1.16.1)\n",
            "Requirement already up-to-date: pandas in /usr/local/lib/python3.6/dist-packages (0.24.1)\n",
            "Requirement already satisfied, skipping upgrade: pytz>=2011k in /usr/local/lib/python3.6/dist-packages (from pandas) (2018.9)\n",
            "Requirement already satisfied, skipping upgrade: numpy>=1.12.0 in /usr/local/lib/python3.6/dist-packages (from pandas) (1.16.1)\n",
            "Requirement already satisfied, skipping upgrade: python-dateutil>=2.5.0 in /usr/local/lib/python3.6/dist-packages (from pandas) (2.5.3)\n",
            "Requirement already satisfied, skipping upgrade: six>=1.5 in /usr/local/lib/python3.6/dist-packages (from python-dateutil>=2.5.0->pandas) (1.11.0)\n"
          ],
          "name": "stdout"
        }
      ]
    },
    {
      "metadata": {
        "id": "grCffVknfJDE",
        "colab_type": "code",
        "outputId": "f4bb417c-0dc1-40dd-e899-4689c6c32b3a",
        "colab": {
          "base_uri": "https://localhost:8080/",
          "height": 205
        }
      },
      "cell_type": "code",
      "source": [
        "!pip3 install http://download.pytorch.org/whl/cu80/torch-0.3.1.post4-cp36-cp36m-linux_x86_64.whl \n",
        "!pip3 install torchvision"
      ],
      "execution_count": 5,
      "outputs": [
        {
          "output_type": "stream",
          "text": [
            "Collecting torch==0.3.1.post4 from http://download.pytorch.org/whl/cu80/torch-0.3.1.post4-cp36-cp36m-linux_x86_64.whl\n",
            "\u001b[31m  HTTP error 403 while getting http://download.pytorch.org/whl/cu80/torch-0.3.1.post4-cp36-cp36m-linux_x86_64.whl\u001b[0m\n",
            "\u001b[31m  Could not install requirement torch==0.3.1.post4 from http://download.pytorch.org/whl/cu80/torch-0.3.1.post4-cp36-cp36m-linux_x86_64.whl because of error 403 Client Error: Forbidden for url: http://download.pytorch.org/whl/cu80/torch-0.3.1.post4-cp36-cp36m-linux_x86_64.whl\u001b[0m\n",
            "\u001b[31mCould not install requirement torch==0.3.1.post4 from http://download.pytorch.org/whl/cu80/torch-0.3.1.post4-cp36-cp36m-linux_x86_64.whl because of HTTP error 403 Client Error: Forbidden for url: http://download.pytorch.org/whl/cu80/torch-0.3.1.post4-cp36-cp36m-linux_x86_64.whl for URL http://download.pytorch.org/whl/cu80/torch-0.3.1.post4-cp36-cp36m-linux_x86_64.whl\u001b[0m\n",
            "Requirement already satisfied: torchvision in /usr/local/lib/python3.6/dist-packages (0.2.1)\n",
            "Requirement already satisfied: numpy in /usr/local/lib/python3.6/dist-packages (from torchvision) (1.16.1)\n",
            "Requirement already satisfied: torch in /usr/local/lib/python3.6/dist-packages (from torchvision) (0.3.1)\n",
            "Requirement already satisfied: pillow>=4.1.1 in /usr/local/lib/python3.6/dist-packages (from torchvision) (5.4.1)\n",
            "Requirement already satisfied: six in /usr/local/lib/python3.6/dist-packages (from torchvision) (1.11.0)\n",
            "Requirement already satisfied: pyyaml in /usr/local/lib/python3.6/dist-packages (from torch->torchvision) (3.13)\n"
          ],
          "name": "stdout"
        }
      ]
    },
    {
      "metadata": {
        "id": "u3CJX6c3PNYs",
        "colab_type": "code",
        "colab": {}
      },
      "cell_type": "code",
      "source": [
        "\n",
        "from fastai.imports import *\n",
        "from fastai.structured import *\n",
        "\n",
        "from pandas_summary import DataFrameSummary\n",
        "from sklearn.ensemble import RandomForestRegressor, RandomForestClassifier\n",
        "from IPython.display import display\n",
        "\n",
        "from sklearn import metrics"
      ],
      "execution_count": 0,
      "outputs": []
    },
    {
      "metadata": {
        "id": "4i_BcDddoZMD",
        "colab_type": "code",
        "colab": {}
      },
      "cell_type": "code",
      "source": [
        "# Load the Drive helper and mount\n",
        "from google.colab import drive\n"
      ],
      "execution_count": 0,
      "outputs": []
    },
    {
      "metadata": {
        "id": "6YTAgOOxoZRu",
        "colab_type": "code",
        "outputId": "0cfb83bb-a5f2-47a7-a047-1beb00a7e4bd",
        "colab": {
          "base_uri": "https://localhost:8080/",
          "height": 54
        }
      },
      "cell_type": "code",
      "source": [
        "# This will prompt for authorization.\n",
        "drive.mount('/content/drive')"
      ],
      "execution_count": 8,
      "outputs": [
        {
          "output_type": "stream",
          "text": [
            "Drive already mounted at /content/drive; to attempt to forcibly remount, call drive.mount(\"/content/drive\", force_remount=True).\n"
          ],
          "name": "stdout"
        }
      ]
    },
    {
      "metadata": {
        "id": "wpZ0J1jKPNa_",
        "colab_type": "text"
      },
      "cell_type": "markdown",
      "source": [
        "# Introduction to *Blue Book for Bulldozers*"
      ]
    },
    {
      "metadata": {
        "id": "S0sSjRLcPNbV",
        "colab_type": "text"
      },
      "cell_type": "markdown",
      "source": [
        "## About..."
      ]
    },
    {
      "metadata": {
        "id": "g9qGK0rsPNbo",
        "colab_type": "text"
      },
      "cell_type": "markdown",
      "source": [
        "### ...our teaching"
      ]
    },
    {
      "metadata": {
        "id": "m1Z1JRw-PNbz",
        "colab_type": "text"
      },
      "cell_type": "markdown",
      "source": [
        "At fast.ai we have a distinctive [teaching philosophy](http://www.fast.ai/2016/10/08/teaching-philosophy/) of [\"the whole game\"](https://www.amazon.com/Making-Learning-Whole-Principles-Transform/dp/0470633719/ref=sr_1_1?ie=UTF8&qid=1505094653).  This is different from how most traditional math & technical courses are taught, where you have to learn all the individual elements before you can combine them (Harvard professor David Perkins call this *elementitis*), but it is similar to how topics like *driving* and *baseball* are taught.  That is, you can start driving without [knowing how an internal combustion engine works](https://medium.com/towards-data-science/thoughts-after-taking-the-deeplearning-ai-courses-8568f132153), and children begin playing baseball before they learn all the formal rules."
      ]
    },
    {
      "metadata": {
        "id": "iuz0t7pSPNb5",
        "colab_type": "text"
      },
      "cell_type": "markdown",
      "source": [
        "### ...our approach to machine learning"
      ]
    },
    {
      "metadata": {
        "id": "pxW5fL7sPNcB",
        "colab_type": "text"
      },
      "cell_type": "markdown",
      "source": [
        "Most machine learning courses will throw at you dozens of different algorithms, with a brief technical description of the math behind them, and maybe a toy example. You're left confused by the enormous range of techniques shown and have little practical understanding of how to apply them.\n",
        "\n",
        "The good news is that modern machine learning can be distilled down to a couple of key techniques that are of very wide applicability. Recent studies have shown that the vast majority of datasets can be best modeled with just two methods:\n",
        "\n",
        "- *Ensembles of decision trees* (i.e. Random Forests and Gradient Boosting Machines), mainly for structured data (such as you might find in a database table at most companies)\n",
        "- *Multi-layered neural networks learnt with SGD* (i.e. shallow and/or deep learning), mainly for unstructured data (such as audio, vision, and natural language)\n",
        "\n",
        "In this course we'll be doing a deep dive into random forests, and simple models learnt with SGD. You'll be learning about gradient boosting and deep learning in part 2."
      ]
    },
    {
      "metadata": {
        "id": "dNKmTnmoPNcE",
        "colab_type": "text"
      },
      "cell_type": "markdown",
      "source": [
        "### ...this dataset"
      ]
    },
    {
      "metadata": {
        "id": "JeQ7p3dOPNcT",
        "colab_type": "text"
      },
      "cell_type": "markdown",
      "source": [
        "We will be looking at the Blue Book for Bulldozers Kaggle Competition: \"The goal of the contest is to predict the sale price of a particular piece of heavy equiment at auction based on it's usage, equipment type, and configuaration.  The data is sourced from auction result postings and includes information on usage and equipment configurations.\"\n",
        "\n",
        "This is a very common type of dataset and prediciton problem, and similar to what you may see in your project or workplace."
      ]
    },
    {
      "metadata": {
        "id": "TnmTGRvpPNca",
        "colab_type": "text"
      },
      "cell_type": "markdown",
      "source": [
        "### ...Kaggle Competitions"
      ]
    },
    {
      "metadata": {
        "id": "2u7ubM5KPNcg",
        "colab_type": "text"
      },
      "cell_type": "markdown",
      "source": [
        "Kaggle is an awesome resource for aspiring data scientists or anyone looking to improve their machine learning skills.  There is nothing like being able to get hands-on practice and receiving real-time feedback to help you improve your skills.\n",
        "\n",
        "Kaggle provides:\n",
        "\n",
        "1. Interesting data sets\n",
        "2. Feedback on how you're doing\n",
        "3. A leader board to see what's good, what's possible, and what's state-of-art.\n",
        "4. Blog posts by winning contestants share useful tips and techniques."
      ]
    },
    {
      "metadata": {
        "id": "9upFkd43PNcj",
        "colab_type": "text"
      },
      "cell_type": "markdown",
      "source": [
        "## The data"
      ]
    },
    {
      "metadata": {
        "id": "YaKg0Ax6PNcp",
        "colab_type": "text"
      },
      "cell_type": "markdown",
      "source": [
        "### Look at the data"
      ]
    },
    {
      "metadata": {
        "id": "aGveKt4iPNc0",
        "colab_type": "text"
      },
      "cell_type": "markdown",
      "source": [
        "Kaggle provides info about some of the fields of our dataset; on the [Kaggle Data info](https://www.kaggle.com/c/bluebook-for-bulldozers/data) page they say the following:\n",
        "\n",
        "For this competition, you are predicting the sale price of bulldozers sold at auctions. The data for this competition is split into three parts:\n",
        "\n",
        "- **Train.csv** is the training set, which contains data through the end of 2011.\n",
        "- **Valid.csv** is the validation set, which contains data from January 1, 2012 - April 30, 2012 You make predictions on this set throughout the majority of the competition. Your score on this set is used to create the public leaderboard.\n",
        "- **Test.csv** is the test set, which won't be released until the last week of the competition. It contains data from May 1, 2012 - November 2012. Your score on the test set determines your final rank for the competition.\n",
        "\n",
        "The key fields are in train.csv are:\n",
        "\n",
        "- SalesID: the uniue identifier of the sale\n",
        "- MachineID: the unique identifier of a machine.  A machine can be sold multiple times\n",
        "- saleprice: what the machine sold for at auction (only provided in train.csv)\n",
        "- saledate: the date of the sale"
      ]
    },
    {
      "metadata": {
        "id": "3eiXY6GMPNdD",
        "colab_type": "text"
      },
      "cell_type": "markdown",
      "source": [
        "*Question*\n",
        "\n",
        "What stands out to you from the above description?  What needs to be true of our training and validation sets?"
      ]
    },
    {
      "metadata": {
        "id": "4fKsxipr0V-F",
        "colab_type": "code",
        "colab": {}
      },
      "cell_type": "code",
      "source": [
        "df_raw = pd.read_csv('/content/drive/My Drive/Train.csv', low_memory=False, parse_dates=[\"saledate\"])"
      ],
      "execution_count": 0,
      "outputs": []
    },
    {
      "metadata": {
        "id": "K8JvcKSrPNdn",
        "colab_type": "text"
      },
      "cell_type": "markdown",
      "source": [
        "In any sort of data science work, it's **important to look at your data**, to make sure you understand the format, how it's stored, what type of values it holds, etc. Even if you've read descriptions about your data, the actual data may not be what you expect."
      ]
    },
    {
      "metadata": {
        "id": "DZOvHpomPNdt",
        "colab_type": "code",
        "colab": {}
      },
      "cell_type": "code",
      "source": [
        "def display_all(df):\n",
        "    with pd.option_context(\"display.max_rows\", 1000, \"display.max_columns\", 1000): \n",
        "        display(df)"
      ],
      "execution_count": 0,
      "outputs": []
    },
    {
      "metadata": {
        "id": "lxoTj4EWPNeb",
        "colab_type": "code",
        "outputId": "f273001a-f99e-421f-da66-b838f545213e",
        "colab": {
          "base_uri": "https://localhost:8080/",
          "height": 1650
        }
      },
      "cell_type": "code",
      "source": [
        "display_all(df_raw.tail().transpose())"
      ],
      "execution_count": 11,
      "outputs": [
        {
          "output_type": "display_data",
          "data": {
            "text/html": [
              "<div>\n",
              "<style scoped>\n",
              "    .dataframe tbody tr th:only-of-type {\n",
              "        vertical-align: middle;\n",
              "    }\n",
              "\n",
              "    .dataframe tbody tr th {\n",
              "        vertical-align: top;\n",
              "    }\n",
              "\n",
              "    .dataframe thead th {\n",
              "        text-align: right;\n",
              "    }\n",
              "</style>\n",
              "<table border=\"1\" class=\"dataframe\">\n",
              "  <thead>\n",
              "    <tr style=\"text-align: right;\">\n",
              "      <th></th>\n",
              "      <th>401120</th>\n",
              "      <th>401121</th>\n",
              "      <th>401122</th>\n",
              "      <th>401123</th>\n",
              "      <th>401124</th>\n",
              "    </tr>\n",
              "  </thead>\n",
              "  <tbody>\n",
              "    <tr>\n",
              "      <th>SalesID</th>\n",
              "      <td>6333336</td>\n",
              "      <td>6333337</td>\n",
              "      <td>6333338</td>\n",
              "      <td>6333341</td>\n",
              "      <td>6333342</td>\n",
              "    </tr>\n",
              "    <tr>\n",
              "      <th>SalePrice</th>\n",
              "      <td>10500</td>\n",
              "      <td>11000</td>\n",
              "      <td>11500</td>\n",
              "      <td>9000</td>\n",
              "      <td>7750</td>\n",
              "    </tr>\n",
              "    <tr>\n",
              "      <th>MachineID</th>\n",
              "      <td>1840702</td>\n",
              "      <td>1830472</td>\n",
              "      <td>1887659</td>\n",
              "      <td>1903570</td>\n",
              "      <td>1926965</td>\n",
              "    </tr>\n",
              "    <tr>\n",
              "      <th>ModelID</th>\n",
              "      <td>21439</td>\n",
              "      <td>21439</td>\n",
              "      <td>21439</td>\n",
              "      <td>21435</td>\n",
              "      <td>21435</td>\n",
              "    </tr>\n",
              "    <tr>\n",
              "      <th>datasource</th>\n",
              "      <td>149</td>\n",
              "      <td>149</td>\n",
              "      <td>149</td>\n",
              "      <td>149</td>\n",
              "      <td>149</td>\n",
              "    </tr>\n",
              "    <tr>\n",
              "      <th>auctioneerID</th>\n",
              "      <td>1</td>\n",
              "      <td>1</td>\n",
              "      <td>1</td>\n",
              "      <td>2</td>\n",
              "      <td>2</td>\n",
              "    </tr>\n",
              "    <tr>\n",
              "      <th>YearMade</th>\n",
              "      <td>2005</td>\n",
              "      <td>2005</td>\n",
              "      <td>2005</td>\n",
              "      <td>2005</td>\n",
              "      <td>2005</td>\n",
              "    </tr>\n",
              "    <tr>\n",
              "      <th>MachineHoursCurrentMeter</th>\n",
              "      <td>NaN</td>\n",
              "      <td>NaN</td>\n",
              "      <td>NaN</td>\n",
              "      <td>NaN</td>\n",
              "      <td>NaN</td>\n",
              "    </tr>\n",
              "    <tr>\n",
              "      <th>UsageBand</th>\n",
              "      <td>NaN</td>\n",
              "      <td>NaN</td>\n",
              "      <td>NaN</td>\n",
              "      <td>NaN</td>\n",
              "      <td>NaN</td>\n",
              "    </tr>\n",
              "    <tr>\n",
              "      <th>saledate</th>\n",
              "      <td>2011-11-02 00:00:00</td>\n",
              "      <td>2011-11-02 00:00:00</td>\n",
              "      <td>2011-11-02 00:00:00</td>\n",
              "      <td>2011-10-25 00:00:00</td>\n",
              "      <td>2011-10-25 00:00:00</td>\n",
              "    </tr>\n",
              "    <tr>\n",
              "      <th>fiModelDesc</th>\n",
              "      <td>35NX2</td>\n",
              "      <td>35NX2</td>\n",
              "      <td>35NX2</td>\n",
              "      <td>30NX</td>\n",
              "      <td>30NX</td>\n",
              "    </tr>\n",
              "    <tr>\n",
              "      <th>fiBaseModel</th>\n",
              "      <td>35</td>\n",
              "      <td>35</td>\n",
              "      <td>35</td>\n",
              "      <td>30</td>\n",
              "      <td>30</td>\n",
              "    </tr>\n",
              "    <tr>\n",
              "      <th>fiSecondaryDesc</th>\n",
              "      <td>NX</td>\n",
              "      <td>NX</td>\n",
              "      <td>NX</td>\n",
              "      <td>NX</td>\n",
              "      <td>NX</td>\n",
              "    </tr>\n",
              "    <tr>\n",
              "      <th>fiModelSeries</th>\n",
              "      <td>2</td>\n",
              "      <td>2</td>\n",
              "      <td>2</td>\n",
              "      <td>NaN</td>\n",
              "      <td>NaN</td>\n",
              "    </tr>\n",
              "    <tr>\n",
              "      <th>fiModelDescriptor</th>\n",
              "      <td>NaN</td>\n",
              "      <td>NaN</td>\n",
              "      <td>NaN</td>\n",
              "      <td>NaN</td>\n",
              "      <td>NaN</td>\n",
              "    </tr>\n",
              "    <tr>\n",
              "      <th>ProductSize</th>\n",
              "      <td>Mini</td>\n",
              "      <td>Mini</td>\n",
              "      <td>Mini</td>\n",
              "      <td>Mini</td>\n",
              "      <td>Mini</td>\n",
              "    </tr>\n",
              "    <tr>\n",
              "      <th>fiProductClassDesc</th>\n",
              "      <td>Hydraulic Excavator, Track - 3.0 to 4.0 Metric...</td>\n",
              "      <td>Hydraulic Excavator, Track - 3.0 to 4.0 Metric...</td>\n",
              "      <td>Hydraulic Excavator, Track - 3.0 to 4.0 Metric...</td>\n",
              "      <td>Hydraulic Excavator, Track - 2.0 to 3.0 Metric...</td>\n",
              "      <td>Hydraulic Excavator, Track - 2.0 to 3.0 Metric...</td>\n",
              "    </tr>\n",
              "    <tr>\n",
              "      <th>state</th>\n",
              "      <td>Maryland</td>\n",
              "      <td>Maryland</td>\n",
              "      <td>Maryland</td>\n",
              "      <td>Florida</td>\n",
              "      <td>Florida</td>\n",
              "    </tr>\n",
              "    <tr>\n",
              "      <th>ProductGroup</th>\n",
              "      <td>TEX</td>\n",
              "      <td>TEX</td>\n",
              "      <td>TEX</td>\n",
              "      <td>TEX</td>\n",
              "      <td>TEX</td>\n",
              "    </tr>\n",
              "    <tr>\n",
              "      <th>ProductGroupDesc</th>\n",
              "      <td>Track Excavators</td>\n",
              "      <td>Track Excavators</td>\n",
              "      <td>Track Excavators</td>\n",
              "      <td>Track Excavators</td>\n",
              "      <td>Track Excavators</td>\n",
              "    </tr>\n",
              "    <tr>\n",
              "      <th>Drive_System</th>\n",
              "      <td>NaN</td>\n",
              "      <td>NaN</td>\n",
              "      <td>NaN</td>\n",
              "      <td>NaN</td>\n",
              "      <td>NaN</td>\n",
              "    </tr>\n",
              "    <tr>\n",
              "      <th>Enclosure</th>\n",
              "      <td>EROPS</td>\n",
              "      <td>EROPS</td>\n",
              "      <td>EROPS</td>\n",
              "      <td>EROPS</td>\n",
              "      <td>EROPS</td>\n",
              "    </tr>\n",
              "    <tr>\n",
              "      <th>Forks</th>\n",
              "      <td>NaN</td>\n",
              "      <td>NaN</td>\n",
              "      <td>NaN</td>\n",
              "      <td>NaN</td>\n",
              "      <td>NaN</td>\n",
              "    </tr>\n",
              "    <tr>\n",
              "      <th>Pad_Type</th>\n",
              "      <td>NaN</td>\n",
              "      <td>NaN</td>\n",
              "      <td>NaN</td>\n",
              "      <td>NaN</td>\n",
              "      <td>NaN</td>\n",
              "    </tr>\n",
              "    <tr>\n",
              "      <th>Ride_Control</th>\n",
              "      <td>NaN</td>\n",
              "      <td>NaN</td>\n",
              "      <td>NaN</td>\n",
              "      <td>NaN</td>\n",
              "      <td>NaN</td>\n",
              "    </tr>\n",
              "    <tr>\n",
              "      <th>Stick</th>\n",
              "      <td>NaN</td>\n",
              "      <td>NaN</td>\n",
              "      <td>NaN</td>\n",
              "      <td>NaN</td>\n",
              "      <td>NaN</td>\n",
              "    </tr>\n",
              "    <tr>\n",
              "      <th>Transmission</th>\n",
              "      <td>NaN</td>\n",
              "      <td>NaN</td>\n",
              "      <td>NaN</td>\n",
              "      <td>NaN</td>\n",
              "      <td>NaN</td>\n",
              "    </tr>\n",
              "    <tr>\n",
              "      <th>Turbocharged</th>\n",
              "      <td>NaN</td>\n",
              "      <td>NaN</td>\n",
              "      <td>NaN</td>\n",
              "      <td>NaN</td>\n",
              "      <td>NaN</td>\n",
              "    </tr>\n",
              "    <tr>\n",
              "      <th>Blade_Extension</th>\n",
              "      <td>NaN</td>\n",
              "      <td>NaN</td>\n",
              "      <td>NaN</td>\n",
              "      <td>NaN</td>\n",
              "      <td>NaN</td>\n",
              "    </tr>\n",
              "    <tr>\n",
              "      <th>Blade_Width</th>\n",
              "      <td>NaN</td>\n",
              "      <td>NaN</td>\n",
              "      <td>NaN</td>\n",
              "      <td>NaN</td>\n",
              "      <td>NaN</td>\n",
              "    </tr>\n",
              "    <tr>\n",
              "      <th>Enclosure_Type</th>\n",
              "      <td>NaN</td>\n",
              "      <td>NaN</td>\n",
              "      <td>NaN</td>\n",
              "      <td>NaN</td>\n",
              "      <td>NaN</td>\n",
              "    </tr>\n",
              "    <tr>\n",
              "      <th>Engine_Horsepower</th>\n",
              "      <td>NaN</td>\n",
              "      <td>NaN</td>\n",
              "      <td>NaN</td>\n",
              "      <td>NaN</td>\n",
              "      <td>NaN</td>\n",
              "    </tr>\n",
              "    <tr>\n",
              "      <th>Hydraulics</th>\n",
              "      <td>Auxiliary</td>\n",
              "      <td>Standard</td>\n",
              "      <td>Auxiliary</td>\n",
              "      <td>Standard</td>\n",
              "      <td>Standard</td>\n",
              "    </tr>\n",
              "    <tr>\n",
              "      <th>Pushblock</th>\n",
              "      <td>NaN</td>\n",
              "      <td>NaN</td>\n",
              "      <td>NaN</td>\n",
              "      <td>NaN</td>\n",
              "      <td>NaN</td>\n",
              "    </tr>\n",
              "    <tr>\n",
              "      <th>Ripper</th>\n",
              "      <td>NaN</td>\n",
              "      <td>NaN</td>\n",
              "      <td>NaN</td>\n",
              "      <td>NaN</td>\n",
              "      <td>NaN</td>\n",
              "    </tr>\n",
              "    <tr>\n",
              "      <th>Scarifier</th>\n",
              "      <td>NaN</td>\n",
              "      <td>NaN</td>\n",
              "      <td>NaN</td>\n",
              "      <td>NaN</td>\n",
              "      <td>NaN</td>\n",
              "    </tr>\n",
              "    <tr>\n",
              "      <th>Tip_Control</th>\n",
              "      <td>NaN</td>\n",
              "      <td>NaN</td>\n",
              "      <td>NaN</td>\n",
              "      <td>NaN</td>\n",
              "      <td>NaN</td>\n",
              "    </tr>\n",
              "    <tr>\n",
              "      <th>Tire_Size</th>\n",
              "      <td>NaN</td>\n",
              "      <td>NaN</td>\n",
              "      <td>NaN</td>\n",
              "      <td>NaN</td>\n",
              "      <td>NaN</td>\n",
              "    </tr>\n",
              "    <tr>\n",
              "      <th>Coupler</th>\n",
              "      <td>None or Unspecified</td>\n",
              "      <td>None or Unspecified</td>\n",
              "      <td>None or Unspecified</td>\n",
              "      <td>None or Unspecified</td>\n",
              "      <td>None or Unspecified</td>\n",
              "    </tr>\n",
              "    <tr>\n",
              "      <th>Coupler_System</th>\n",
              "      <td>NaN</td>\n",
              "      <td>NaN</td>\n",
              "      <td>NaN</td>\n",
              "      <td>NaN</td>\n",
              "      <td>NaN</td>\n",
              "    </tr>\n",
              "    <tr>\n",
              "      <th>Grouser_Tracks</th>\n",
              "      <td>NaN</td>\n",
              "      <td>NaN</td>\n",
              "      <td>NaN</td>\n",
              "      <td>NaN</td>\n",
              "      <td>NaN</td>\n",
              "    </tr>\n",
              "    <tr>\n",
              "      <th>Hydraulics_Flow</th>\n",
              "      <td>NaN</td>\n",
              "      <td>NaN</td>\n",
              "      <td>NaN</td>\n",
              "      <td>NaN</td>\n",
              "      <td>NaN</td>\n",
              "    </tr>\n",
              "    <tr>\n",
              "      <th>Track_Type</th>\n",
              "      <td>Steel</td>\n",
              "      <td>Steel</td>\n",
              "      <td>Steel</td>\n",
              "      <td>Steel</td>\n",
              "      <td>Steel</td>\n",
              "    </tr>\n",
              "    <tr>\n",
              "      <th>Undercarriage_Pad_Width</th>\n",
              "      <td>None or Unspecified</td>\n",
              "      <td>None or Unspecified</td>\n",
              "      <td>None or Unspecified</td>\n",
              "      <td>None or Unspecified</td>\n",
              "      <td>None or Unspecified</td>\n",
              "    </tr>\n",
              "    <tr>\n",
              "      <th>Stick_Length</th>\n",
              "      <td>None or Unspecified</td>\n",
              "      <td>None or Unspecified</td>\n",
              "      <td>None or Unspecified</td>\n",
              "      <td>None or Unspecified</td>\n",
              "      <td>None or Unspecified</td>\n",
              "    </tr>\n",
              "    <tr>\n",
              "      <th>Thumb</th>\n",
              "      <td>None or Unspecified</td>\n",
              "      <td>None or Unspecified</td>\n",
              "      <td>None or Unspecified</td>\n",
              "      <td>None or Unspecified</td>\n",
              "      <td>None or Unspecified</td>\n",
              "    </tr>\n",
              "    <tr>\n",
              "      <th>Pattern_Changer</th>\n",
              "      <td>None or Unspecified</td>\n",
              "      <td>None or Unspecified</td>\n",
              "      <td>None or Unspecified</td>\n",
              "      <td>None or Unspecified</td>\n",
              "      <td>None or Unspecified</td>\n",
              "    </tr>\n",
              "    <tr>\n",
              "      <th>Grouser_Type</th>\n",
              "      <td>Double</td>\n",
              "      <td>Double</td>\n",
              "      <td>Double</td>\n",
              "      <td>Double</td>\n",
              "      <td>Double</td>\n",
              "    </tr>\n",
              "    <tr>\n",
              "      <th>Backhoe_Mounting</th>\n",
              "      <td>NaN</td>\n",
              "      <td>NaN</td>\n",
              "      <td>NaN</td>\n",
              "      <td>NaN</td>\n",
              "      <td>NaN</td>\n",
              "    </tr>\n",
              "    <tr>\n",
              "      <th>Blade_Type</th>\n",
              "      <td>NaN</td>\n",
              "      <td>NaN</td>\n",
              "      <td>NaN</td>\n",
              "      <td>NaN</td>\n",
              "      <td>NaN</td>\n",
              "    </tr>\n",
              "    <tr>\n",
              "      <th>Travel_Controls</th>\n",
              "      <td>NaN</td>\n",
              "      <td>NaN</td>\n",
              "      <td>NaN</td>\n",
              "      <td>NaN</td>\n",
              "      <td>NaN</td>\n",
              "    </tr>\n",
              "    <tr>\n",
              "      <th>Differential_Type</th>\n",
              "      <td>NaN</td>\n",
              "      <td>NaN</td>\n",
              "      <td>NaN</td>\n",
              "      <td>NaN</td>\n",
              "      <td>NaN</td>\n",
              "    </tr>\n",
              "    <tr>\n",
              "      <th>Steering_Controls</th>\n",
              "      <td>NaN</td>\n",
              "      <td>NaN</td>\n",
              "      <td>NaN</td>\n",
              "      <td>NaN</td>\n",
              "      <td>NaN</td>\n",
              "    </tr>\n",
              "  </tbody>\n",
              "</table>\n",
              "</div>"
            ],
            "text/plain": [
              "                                                                     401120  \\\n",
              "SalesID                                                             6333336   \n",
              "SalePrice                                                             10500   \n",
              "MachineID                                                           1840702   \n",
              "ModelID                                                               21439   \n",
              "datasource                                                              149   \n",
              "auctioneerID                                                              1   \n",
              "YearMade                                                               2005   \n",
              "MachineHoursCurrentMeter                                                NaN   \n",
              "UsageBand                                                               NaN   \n",
              "saledate                                                2011-11-02 00:00:00   \n",
              "fiModelDesc                                                           35NX2   \n",
              "fiBaseModel                                                              35   \n",
              "fiSecondaryDesc                                                          NX   \n",
              "fiModelSeries                                                             2   \n",
              "fiModelDescriptor                                                       NaN   \n",
              "ProductSize                                                            Mini   \n",
              "fiProductClassDesc        Hydraulic Excavator, Track - 3.0 to 4.0 Metric...   \n",
              "state                                                              Maryland   \n",
              "ProductGroup                                                            TEX   \n",
              "ProductGroupDesc                                           Track Excavators   \n",
              "Drive_System                                                            NaN   \n",
              "Enclosure                                                             EROPS   \n",
              "Forks                                                                   NaN   \n",
              "Pad_Type                                                                NaN   \n",
              "Ride_Control                                                            NaN   \n",
              "Stick                                                                   NaN   \n",
              "Transmission                                                            NaN   \n",
              "Turbocharged                                                            NaN   \n",
              "Blade_Extension                                                         NaN   \n",
              "Blade_Width                                                             NaN   \n",
              "Enclosure_Type                                                          NaN   \n",
              "Engine_Horsepower                                                       NaN   \n",
              "Hydraulics                                                        Auxiliary   \n",
              "Pushblock                                                               NaN   \n",
              "Ripper                                                                  NaN   \n",
              "Scarifier                                                               NaN   \n",
              "Tip_Control                                                             NaN   \n",
              "Tire_Size                                                               NaN   \n",
              "Coupler                                                 None or Unspecified   \n",
              "Coupler_System                                                          NaN   \n",
              "Grouser_Tracks                                                          NaN   \n",
              "Hydraulics_Flow                                                         NaN   \n",
              "Track_Type                                                            Steel   \n",
              "Undercarriage_Pad_Width                                 None or Unspecified   \n",
              "Stick_Length                                            None or Unspecified   \n",
              "Thumb                                                   None or Unspecified   \n",
              "Pattern_Changer                                         None or Unspecified   \n",
              "Grouser_Type                                                         Double   \n",
              "Backhoe_Mounting                                                        NaN   \n",
              "Blade_Type                                                              NaN   \n",
              "Travel_Controls                                                         NaN   \n",
              "Differential_Type                                                       NaN   \n",
              "Steering_Controls                                                       NaN   \n",
              "\n",
              "                                                                     401121  \\\n",
              "SalesID                                                             6333337   \n",
              "SalePrice                                                             11000   \n",
              "MachineID                                                           1830472   \n",
              "ModelID                                                               21439   \n",
              "datasource                                                              149   \n",
              "auctioneerID                                                              1   \n",
              "YearMade                                                               2005   \n",
              "MachineHoursCurrentMeter                                                NaN   \n",
              "UsageBand                                                               NaN   \n",
              "saledate                                                2011-11-02 00:00:00   \n",
              "fiModelDesc                                                           35NX2   \n",
              "fiBaseModel                                                              35   \n",
              "fiSecondaryDesc                                                          NX   \n",
              "fiModelSeries                                                             2   \n",
              "fiModelDescriptor                                                       NaN   \n",
              "ProductSize                                                            Mini   \n",
              "fiProductClassDesc        Hydraulic Excavator, Track - 3.0 to 4.0 Metric...   \n",
              "state                                                              Maryland   \n",
              "ProductGroup                                                            TEX   \n",
              "ProductGroupDesc                                           Track Excavators   \n",
              "Drive_System                                                            NaN   \n",
              "Enclosure                                                             EROPS   \n",
              "Forks                                                                   NaN   \n",
              "Pad_Type                                                                NaN   \n",
              "Ride_Control                                                            NaN   \n",
              "Stick                                                                   NaN   \n",
              "Transmission                                                            NaN   \n",
              "Turbocharged                                                            NaN   \n",
              "Blade_Extension                                                         NaN   \n",
              "Blade_Width                                                             NaN   \n",
              "Enclosure_Type                                                          NaN   \n",
              "Engine_Horsepower                                                       NaN   \n",
              "Hydraulics                                                         Standard   \n",
              "Pushblock                                                               NaN   \n",
              "Ripper                                                                  NaN   \n",
              "Scarifier                                                               NaN   \n",
              "Tip_Control                                                             NaN   \n",
              "Tire_Size                                                               NaN   \n",
              "Coupler                                                 None or Unspecified   \n",
              "Coupler_System                                                          NaN   \n",
              "Grouser_Tracks                                                          NaN   \n",
              "Hydraulics_Flow                                                         NaN   \n",
              "Track_Type                                                            Steel   \n",
              "Undercarriage_Pad_Width                                 None or Unspecified   \n",
              "Stick_Length                                            None or Unspecified   \n",
              "Thumb                                                   None or Unspecified   \n",
              "Pattern_Changer                                         None or Unspecified   \n",
              "Grouser_Type                                                         Double   \n",
              "Backhoe_Mounting                                                        NaN   \n",
              "Blade_Type                                                              NaN   \n",
              "Travel_Controls                                                         NaN   \n",
              "Differential_Type                                                       NaN   \n",
              "Steering_Controls                                                       NaN   \n",
              "\n",
              "                                                                     401122  \\\n",
              "SalesID                                                             6333338   \n",
              "SalePrice                                                             11500   \n",
              "MachineID                                                           1887659   \n",
              "ModelID                                                               21439   \n",
              "datasource                                                              149   \n",
              "auctioneerID                                                              1   \n",
              "YearMade                                                               2005   \n",
              "MachineHoursCurrentMeter                                                NaN   \n",
              "UsageBand                                                               NaN   \n",
              "saledate                                                2011-11-02 00:00:00   \n",
              "fiModelDesc                                                           35NX2   \n",
              "fiBaseModel                                                              35   \n",
              "fiSecondaryDesc                                                          NX   \n",
              "fiModelSeries                                                             2   \n",
              "fiModelDescriptor                                                       NaN   \n",
              "ProductSize                                                            Mini   \n",
              "fiProductClassDesc        Hydraulic Excavator, Track - 3.0 to 4.0 Metric...   \n",
              "state                                                              Maryland   \n",
              "ProductGroup                                                            TEX   \n",
              "ProductGroupDesc                                           Track Excavators   \n",
              "Drive_System                                                            NaN   \n",
              "Enclosure                                                             EROPS   \n",
              "Forks                                                                   NaN   \n",
              "Pad_Type                                                                NaN   \n",
              "Ride_Control                                                            NaN   \n",
              "Stick                                                                   NaN   \n",
              "Transmission                                                            NaN   \n",
              "Turbocharged                                                            NaN   \n",
              "Blade_Extension                                                         NaN   \n",
              "Blade_Width                                                             NaN   \n",
              "Enclosure_Type                                                          NaN   \n",
              "Engine_Horsepower                                                       NaN   \n",
              "Hydraulics                                                        Auxiliary   \n",
              "Pushblock                                                               NaN   \n",
              "Ripper                                                                  NaN   \n",
              "Scarifier                                                               NaN   \n",
              "Tip_Control                                                             NaN   \n",
              "Tire_Size                                                               NaN   \n",
              "Coupler                                                 None or Unspecified   \n",
              "Coupler_System                                                          NaN   \n",
              "Grouser_Tracks                                                          NaN   \n",
              "Hydraulics_Flow                                                         NaN   \n",
              "Track_Type                                                            Steel   \n",
              "Undercarriage_Pad_Width                                 None or Unspecified   \n",
              "Stick_Length                                            None or Unspecified   \n",
              "Thumb                                                   None or Unspecified   \n",
              "Pattern_Changer                                         None or Unspecified   \n",
              "Grouser_Type                                                         Double   \n",
              "Backhoe_Mounting                                                        NaN   \n",
              "Blade_Type                                                              NaN   \n",
              "Travel_Controls                                                         NaN   \n",
              "Differential_Type                                                       NaN   \n",
              "Steering_Controls                                                       NaN   \n",
              "\n",
              "                                                                     401123  \\\n",
              "SalesID                                                             6333341   \n",
              "SalePrice                                                              9000   \n",
              "MachineID                                                           1903570   \n",
              "ModelID                                                               21435   \n",
              "datasource                                                              149   \n",
              "auctioneerID                                                              2   \n",
              "YearMade                                                               2005   \n",
              "MachineHoursCurrentMeter                                                NaN   \n",
              "UsageBand                                                               NaN   \n",
              "saledate                                                2011-10-25 00:00:00   \n",
              "fiModelDesc                                                            30NX   \n",
              "fiBaseModel                                                              30   \n",
              "fiSecondaryDesc                                                          NX   \n",
              "fiModelSeries                                                           NaN   \n",
              "fiModelDescriptor                                                       NaN   \n",
              "ProductSize                                                            Mini   \n",
              "fiProductClassDesc        Hydraulic Excavator, Track - 2.0 to 3.0 Metric...   \n",
              "state                                                               Florida   \n",
              "ProductGroup                                                            TEX   \n",
              "ProductGroupDesc                                           Track Excavators   \n",
              "Drive_System                                                            NaN   \n",
              "Enclosure                                                             EROPS   \n",
              "Forks                                                                   NaN   \n",
              "Pad_Type                                                                NaN   \n",
              "Ride_Control                                                            NaN   \n",
              "Stick                                                                   NaN   \n",
              "Transmission                                                            NaN   \n",
              "Turbocharged                                                            NaN   \n",
              "Blade_Extension                                                         NaN   \n",
              "Blade_Width                                                             NaN   \n",
              "Enclosure_Type                                                          NaN   \n",
              "Engine_Horsepower                                                       NaN   \n",
              "Hydraulics                                                         Standard   \n",
              "Pushblock                                                               NaN   \n",
              "Ripper                                                                  NaN   \n",
              "Scarifier                                                               NaN   \n",
              "Tip_Control                                                             NaN   \n",
              "Tire_Size                                                               NaN   \n",
              "Coupler                                                 None or Unspecified   \n",
              "Coupler_System                                                          NaN   \n",
              "Grouser_Tracks                                                          NaN   \n",
              "Hydraulics_Flow                                                         NaN   \n",
              "Track_Type                                                            Steel   \n",
              "Undercarriage_Pad_Width                                 None or Unspecified   \n",
              "Stick_Length                                            None or Unspecified   \n",
              "Thumb                                                   None or Unspecified   \n",
              "Pattern_Changer                                         None or Unspecified   \n",
              "Grouser_Type                                                         Double   \n",
              "Backhoe_Mounting                                                        NaN   \n",
              "Blade_Type                                                              NaN   \n",
              "Travel_Controls                                                         NaN   \n",
              "Differential_Type                                                       NaN   \n",
              "Steering_Controls                                                       NaN   \n",
              "\n",
              "                                                                     401124  \n",
              "SalesID                                                             6333342  \n",
              "SalePrice                                                              7750  \n",
              "MachineID                                                           1926965  \n",
              "ModelID                                                               21435  \n",
              "datasource                                                              149  \n",
              "auctioneerID                                                              2  \n",
              "YearMade                                                               2005  \n",
              "MachineHoursCurrentMeter                                                NaN  \n",
              "UsageBand                                                               NaN  \n",
              "saledate                                                2011-10-25 00:00:00  \n",
              "fiModelDesc                                                            30NX  \n",
              "fiBaseModel                                                              30  \n",
              "fiSecondaryDesc                                                          NX  \n",
              "fiModelSeries                                                           NaN  \n",
              "fiModelDescriptor                                                       NaN  \n",
              "ProductSize                                                            Mini  \n",
              "fiProductClassDesc        Hydraulic Excavator, Track - 2.0 to 3.0 Metric...  \n",
              "state                                                               Florida  \n",
              "ProductGroup                                                            TEX  \n",
              "ProductGroupDesc                                           Track Excavators  \n",
              "Drive_System                                                            NaN  \n",
              "Enclosure                                                             EROPS  \n",
              "Forks                                                                   NaN  \n",
              "Pad_Type                                                                NaN  \n",
              "Ride_Control                                                            NaN  \n",
              "Stick                                                                   NaN  \n",
              "Transmission                                                            NaN  \n",
              "Turbocharged                                                            NaN  \n",
              "Blade_Extension                                                         NaN  \n",
              "Blade_Width                                                             NaN  \n",
              "Enclosure_Type                                                          NaN  \n",
              "Engine_Horsepower                                                       NaN  \n",
              "Hydraulics                                                         Standard  \n",
              "Pushblock                                                               NaN  \n",
              "Ripper                                                                  NaN  \n",
              "Scarifier                                                               NaN  \n",
              "Tip_Control                                                             NaN  \n",
              "Tire_Size                                                               NaN  \n",
              "Coupler                                                 None or Unspecified  \n",
              "Coupler_System                                                          NaN  \n",
              "Grouser_Tracks                                                          NaN  \n",
              "Hydraulics_Flow                                                         NaN  \n",
              "Track_Type                                                            Steel  \n",
              "Undercarriage_Pad_Width                                 None or Unspecified  \n",
              "Stick_Length                                            None or Unspecified  \n",
              "Thumb                                                   None or Unspecified  \n",
              "Pattern_Changer                                         None or Unspecified  \n",
              "Grouser_Type                                                         Double  \n",
              "Backhoe_Mounting                                                        NaN  \n",
              "Blade_Type                                                              NaN  \n",
              "Travel_Controls                                                         NaN  \n",
              "Differential_Type                                                       NaN  \n",
              "Steering_Controls                                                       NaN  "
            ]
          },
          "metadata": {
            "tags": []
          }
        }
      ]
    },
    {
      "metadata": {
        "id": "ERwqKjjNPNe8",
        "colab_type": "code",
        "outputId": "8ddcc642-e7b1-496e-8126-06bee384ed00",
        "colab": {
          "base_uri": "https://localhost:8080/",
          "height": 2090
        }
      },
      "cell_type": "code",
      "source": [
        "display_all(df_raw.describe(include='all').T)"
      ],
      "execution_count": 12,
      "outputs": [
        {
          "output_type": "display_data",
          "data": {
            "text/html": [
              "<div>\n",
              "<style scoped>\n",
              "    .dataframe tbody tr th:only-of-type {\n",
              "        vertical-align: middle;\n",
              "    }\n",
              "\n",
              "    .dataframe tbody tr th {\n",
              "        vertical-align: top;\n",
              "    }\n",
              "\n",
              "    .dataframe thead th {\n",
              "        text-align: right;\n",
              "    }\n",
              "</style>\n",
              "<table border=\"1\" class=\"dataframe\">\n",
              "  <thead>\n",
              "    <tr style=\"text-align: right;\">\n",
              "      <th></th>\n",
              "      <th>count</th>\n",
              "      <th>unique</th>\n",
              "      <th>top</th>\n",
              "      <th>freq</th>\n",
              "      <th>first</th>\n",
              "      <th>last</th>\n",
              "      <th>mean</th>\n",
              "      <th>std</th>\n",
              "      <th>min</th>\n",
              "      <th>25%</th>\n",
              "      <th>50%</th>\n",
              "      <th>75%</th>\n",
              "      <th>max</th>\n",
              "    </tr>\n",
              "  </thead>\n",
              "  <tbody>\n",
              "    <tr>\n",
              "      <th>SalesID</th>\n",
              "      <td>401125</td>\n",
              "      <td>NaN</td>\n",
              "      <td>NaN</td>\n",
              "      <td>NaN</td>\n",
              "      <td>NaN</td>\n",
              "      <td>NaN</td>\n",
              "      <td>1.91971e+06</td>\n",
              "      <td>909021</td>\n",
              "      <td>1.13925e+06</td>\n",
              "      <td>1.41837e+06</td>\n",
              "      <td>1.63942e+06</td>\n",
              "      <td>2.24271e+06</td>\n",
              "      <td>6.33334e+06</td>\n",
              "    </tr>\n",
              "    <tr>\n",
              "      <th>SalePrice</th>\n",
              "      <td>401125</td>\n",
              "      <td>NaN</td>\n",
              "      <td>NaN</td>\n",
              "      <td>NaN</td>\n",
              "      <td>NaN</td>\n",
              "      <td>NaN</td>\n",
              "      <td>31099.7</td>\n",
              "      <td>23036.9</td>\n",
              "      <td>4750</td>\n",
              "      <td>14500</td>\n",
              "      <td>24000</td>\n",
              "      <td>40000</td>\n",
              "      <td>142000</td>\n",
              "    </tr>\n",
              "    <tr>\n",
              "      <th>MachineID</th>\n",
              "      <td>401125</td>\n",
              "      <td>NaN</td>\n",
              "      <td>NaN</td>\n",
              "      <td>NaN</td>\n",
              "      <td>NaN</td>\n",
              "      <td>NaN</td>\n",
              "      <td>1.2179e+06</td>\n",
              "      <td>440992</td>\n",
              "      <td>0</td>\n",
              "      <td>1.0887e+06</td>\n",
              "      <td>1.27949e+06</td>\n",
              "      <td>1.46807e+06</td>\n",
              "      <td>2.48633e+06</td>\n",
              "    </tr>\n",
              "    <tr>\n",
              "      <th>ModelID</th>\n",
              "      <td>401125</td>\n",
              "      <td>NaN</td>\n",
              "      <td>NaN</td>\n",
              "      <td>NaN</td>\n",
              "      <td>NaN</td>\n",
              "      <td>NaN</td>\n",
              "      <td>6889.7</td>\n",
              "      <td>6221.78</td>\n",
              "      <td>28</td>\n",
              "      <td>3259</td>\n",
              "      <td>4604</td>\n",
              "      <td>8724</td>\n",
              "      <td>37198</td>\n",
              "    </tr>\n",
              "    <tr>\n",
              "      <th>datasource</th>\n",
              "      <td>401125</td>\n",
              "      <td>NaN</td>\n",
              "      <td>NaN</td>\n",
              "      <td>NaN</td>\n",
              "      <td>NaN</td>\n",
              "      <td>NaN</td>\n",
              "      <td>134.666</td>\n",
              "      <td>8.96224</td>\n",
              "      <td>121</td>\n",
              "      <td>132</td>\n",
              "      <td>132</td>\n",
              "      <td>136</td>\n",
              "      <td>172</td>\n",
              "    </tr>\n",
              "    <tr>\n",
              "      <th>auctioneerID</th>\n",
              "      <td>380989</td>\n",
              "      <td>NaN</td>\n",
              "      <td>NaN</td>\n",
              "      <td>NaN</td>\n",
              "      <td>NaN</td>\n",
              "      <td>NaN</td>\n",
              "      <td>6.55604</td>\n",
              "      <td>16.9768</td>\n",
              "      <td>0</td>\n",
              "      <td>1</td>\n",
              "      <td>2</td>\n",
              "      <td>4</td>\n",
              "      <td>99</td>\n",
              "    </tr>\n",
              "    <tr>\n",
              "      <th>YearMade</th>\n",
              "      <td>401125</td>\n",
              "      <td>NaN</td>\n",
              "      <td>NaN</td>\n",
              "      <td>NaN</td>\n",
              "      <td>NaN</td>\n",
              "      <td>NaN</td>\n",
              "      <td>1899.16</td>\n",
              "      <td>291.797</td>\n",
              "      <td>1000</td>\n",
              "      <td>1985</td>\n",
              "      <td>1995</td>\n",
              "      <td>2000</td>\n",
              "      <td>2013</td>\n",
              "    </tr>\n",
              "    <tr>\n",
              "      <th>MachineHoursCurrentMeter</th>\n",
              "      <td>142765</td>\n",
              "      <td>NaN</td>\n",
              "      <td>NaN</td>\n",
              "      <td>NaN</td>\n",
              "      <td>NaN</td>\n",
              "      <td>NaN</td>\n",
              "      <td>3457.96</td>\n",
              "      <td>27590.3</td>\n",
              "      <td>0</td>\n",
              "      <td>0</td>\n",
              "      <td>0</td>\n",
              "      <td>3025</td>\n",
              "      <td>2.4833e+06</td>\n",
              "    </tr>\n",
              "    <tr>\n",
              "      <th>UsageBand</th>\n",
              "      <td>69639</td>\n",
              "      <td>3</td>\n",
              "      <td>Medium</td>\n",
              "      <td>33985</td>\n",
              "      <td>NaN</td>\n",
              "      <td>NaN</td>\n",
              "      <td>NaN</td>\n",
              "      <td>NaN</td>\n",
              "      <td>NaN</td>\n",
              "      <td>NaN</td>\n",
              "      <td>NaN</td>\n",
              "      <td>NaN</td>\n",
              "      <td>NaN</td>\n",
              "    </tr>\n",
              "    <tr>\n",
              "      <th>saledate</th>\n",
              "      <td>401125</td>\n",
              "      <td>3919</td>\n",
              "      <td>2009-02-16 00:00:00</td>\n",
              "      <td>1932</td>\n",
              "      <td>1989-01-17 00:00:00</td>\n",
              "      <td>2011-12-30 00:00:00</td>\n",
              "      <td>NaN</td>\n",
              "      <td>NaN</td>\n",
              "      <td>NaN</td>\n",
              "      <td>NaN</td>\n",
              "      <td>NaN</td>\n",
              "      <td>NaN</td>\n",
              "      <td>NaN</td>\n",
              "    </tr>\n",
              "    <tr>\n",
              "      <th>fiModelDesc</th>\n",
              "      <td>401125</td>\n",
              "      <td>4999</td>\n",
              "      <td>310G</td>\n",
              "      <td>5039</td>\n",
              "      <td>NaN</td>\n",
              "      <td>NaN</td>\n",
              "      <td>NaN</td>\n",
              "      <td>NaN</td>\n",
              "      <td>NaN</td>\n",
              "      <td>NaN</td>\n",
              "      <td>NaN</td>\n",
              "      <td>NaN</td>\n",
              "      <td>NaN</td>\n",
              "    </tr>\n",
              "    <tr>\n",
              "      <th>fiBaseModel</th>\n",
              "      <td>401125</td>\n",
              "      <td>1950</td>\n",
              "      <td>580</td>\n",
              "      <td>19798</td>\n",
              "      <td>NaN</td>\n",
              "      <td>NaN</td>\n",
              "      <td>NaN</td>\n",
              "      <td>NaN</td>\n",
              "      <td>NaN</td>\n",
              "      <td>NaN</td>\n",
              "      <td>NaN</td>\n",
              "      <td>NaN</td>\n",
              "      <td>NaN</td>\n",
              "    </tr>\n",
              "    <tr>\n",
              "      <th>fiSecondaryDesc</th>\n",
              "      <td>263934</td>\n",
              "      <td>175</td>\n",
              "      <td>C</td>\n",
              "      <td>43235</td>\n",
              "      <td>NaN</td>\n",
              "      <td>NaN</td>\n",
              "      <td>NaN</td>\n",
              "      <td>NaN</td>\n",
              "      <td>NaN</td>\n",
              "      <td>NaN</td>\n",
              "      <td>NaN</td>\n",
              "      <td>NaN</td>\n",
              "      <td>NaN</td>\n",
              "    </tr>\n",
              "    <tr>\n",
              "      <th>fiModelSeries</th>\n",
              "      <td>56908</td>\n",
              "      <td>122</td>\n",
              "      <td>II</td>\n",
              "      <td>13202</td>\n",
              "      <td>NaN</td>\n",
              "      <td>NaN</td>\n",
              "      <td>NaN</td>\n",
              "      <td>NaN</td>\n",
              "      <td>NaN</td>\n",
              "      <td>NaN</td>\n",
              "      <td>NaN</td>\n",
              "      <td>NaN</td>\n",
              "      <td>NaN</td>\n",
              "    </tr>\n",
              "    <tr>\n",
              "      <th>fiModelDescriptor</th>\n",
              "      <td>71919</td>\n",
              "      <td>139</td>\n",
              "      <td>L</td>\n",
              "      <td>15875</td>\n",
              "      <td>NaN</td>\n",
              "      <td>NaN</td>\n",
              "      <td>NaN</td>\n",
              "      <td>NaN</td>\n",
              "      <td>NaN</td>\n",
              "      <td>NaN</td>\n",
              "      <td>NaN</td>\n",
              "      <td>NaN</td>\n",
              "      <td>NaN</td>\n",
              "    </tr>\n",
              "    <tr>\n",
              "      <th>ProductSize</th>\n",
              "      <td>190350</td>\n",
              "      <td>6</td>\n",
              "      <td>Medium</td>\n",
              "      <td>62274</td>\n",
              "      <td>NaN</td>\n",
              "      <td>NaN</td>\n",
              "      <td>NaN</td>\n",
              "      <td>NaN</td>\n",
              "      <td>NaN</td>\n",
              "      <td>NaN</td>\n",
              "      <td>NaN</td>\n",
              "      <td>NaN</td>\n",
              "      <td>NaN</td>\n",
              "    </tr>\n",
              "    <tr>\n",
              "      <th>fiProductClassDesc</th>\n",
              "      <td>401125</td>\n",
              "      <td>74</td>\n",
              "      <td>Backhoe Loader - 14.0 to 15.0 Ft Standard Digg...</td>\n",
              "      <td>56166</td>\n",
              "      <td>NaN</td>\n",
              "      <td>NaN</td>\n",
              "      <td>NaN</td>\n",
              "      <td>NaN</td>\n",
              "      <td>NaN</td>\n",
              "      <td>NaN</td>\n",
              "      <td>NaN</td>\n",
              "      <td>NaN</td>\n",
              "      <td>NaN</td>\n",
              "    </tr>\n",
              "    <tr>\n",
              "      <th>state</th>\n",
              "      <td>401125</td>\n",
              "      <td>53</td>\n",
              "      <td>Florida</td>\n",
              "      <td>63944</td>\n",
              "      <td>NaN</td>\n",
              "      <td>NaN</td>\n",
              "      <td>NaN</td>\n",
              "      <td>NaN</td>\n",
              "      <td>NaN</td>\n",
              "      <td>NaN</td>\n",
              "      <td>NaN</td>\n",
              "      <td>NaN</td>\n",
              "      <td>NaN</td>\n",
              "    </tr>\n",
              "    <tr>\n",
              "      <th>ProductGroup</th>\n",
              "      <td>401125</td>\n",
              "      <td>6</td>\n",
              "      <td>TEX</td>\n",
              "      <td>101167</td>\n",
              "      <td>NaN</td>\n",
              "      <td>NaN</td>\n",
              "      <td>NaN</td>\n",
              "      <td>NaN</td>\n",
              "      <td>NaN</td>\n",
              "      <td>NaN</td>\n",
              "      <td>NaN</td>\n",
              "      <td>NaN</td>\n",
              "      <td>NaN</td>\n",
              "    </tr>\n",
              "    <tr>\n",
              "      <th>ProductGroupDesc</th>\n",
              "      <td>401125</td>\n",
              "      <td>6</td>\n",
              "      <td>Track Excavators</td>\n",
              "      <td>101167</td>\n",
              "      <td>NaN</td>\n",
              "      <td>NaN</td>\n",
              "      <td>NaN</td>\n",
              "      <td>NaN</td>\n",
              "      <td>NaN</td>\n",
              "      <td>NaN</td>\n",
              "      <td>NaN</td>\n",
              "      <td>NaN</td>\n",
              "      <td>NaN</td>\n",
              "    </tr>\n",
              "    <tr>\n",
              "      <th>Drive_System</th>\n",
              "      <td>104361</td>\n",
              "      <td>4</td>\n",
              "      <td>Two Wheel Drive</td>\n",
              "      <td>46139</td>\n",
              "      <td>NaN</td>\n",
              "      <td>NaN</td>\n",
              "      <td>NaN</td>\n",
              "      <td>NaN</td>\n",
              "      <td>NaN</td>\n",
              "      <td>NaN</td>\n",
              "      <td>NaN</td>\n",
              "      <td>NaN</td>\n",
              "      <td>NaN</td>\n",
              "    </tr>\n",
              "    <tr>\n",
              "      <th>Enclosure</th>\n",
              "      <td>400800</td>\n",
              "      <td>6</td>\n",
              "      <td>OROPS</td>\n",
              "      <td>173932</td>\n",
              "      <td>NaN</td>\n",
              "      <td>NaN</td>\n",
              "      <td>NaN</td>\n",
              "      <td>NaN</td>\n",
              "      <td>NaN</td>\n",
              "      <td>NaN</td>\n",
              "      <td>NaN</td>\n",
              "      <td>NaN</td>\n",
              "      <td>NaN</td>\n",
              "    </tr>\n",
              "    <tr>\n",
              "      <th>Forks</th>\n",
              "      <td>192077</td>\n",
              "      <td>2</td>\n",
              "      <td>None or Unspecified</td>\n",
              "      <td>178300</td>\n",
              "      <td>NaN</td>\n",
              "      <td>NaN</td>\n",
              "      <td>NaN</td>\n",
              "      <td>NaN</td>\n",
              "      <td>NaN</td>\n",
              "      <td>NaN</td>\n",
              "      <td>NaN</td>\n",
              "      <td>NaN</td>\n",
              "      <td>NaN</td>\n",
              "    </tr>\n",
              "    <tr>\n",
              "      <th>Pad_Type</th>\n",
              "      <td>79134</td>\n",
              "      <td>4</td>\n",
              "      <td>None or Unspecified</td>\n",
              "      <td>70614</td>\n",
              "      <td>NaN</td>\n",
              "      <td>NaN</td>\n",
              "      <td>NaN</td>\n",
              "      <td>NaN</td>\n",
              "      <td>NaN</td>\n",
              "      <td>NaN</td>\n",
              "      <td>NaN</td>\n",
              "      <td>NaN</td>\n",
              "      <td>NaN</td>\n",
              "    </tr>\n",
              "    <tr>\n",
              "      <th>Ride_Control</th>\n",
              "      <td>148606</td>\n",
              "      <td>3</td>\n",
              "      <td>No</td>\n",
              "      <td>77685</td>\n",
              "      <td>NaN</td>\n",
              "      <td>NaN</td>\n",
              "      <td>NaN</td>\n",
              "      <td>NaN</td>\n",
              "      <td>NaN</td>\n",
              "      <td>NaN</td>\n",
              "      <td>NaN</td>\n",
              "      <td>NaN</td>\n",
              "      <td>NaN</td>\n",
              "    </tr>\n",
              "    <tr>\n",
              "      <th>Stick</th>\n",
              "      <td>79134</td>\n",
              "      <td>2</td>\n",
              "      <td>Standard</td>\n",
              "      <td>48829</td>\n",
              "      <td>NaN</td>\n",
              "      <td>NaN</td>\n",
              "      <td>NaN</td>\n",
              "      <td>NaN</td>\n",
              "      <td>NaN</td>\n",
              "      <td>NaN</td>\n",
              "      <td>NaN</td>\n",
              "      <td>NaN</td>\n",
              "      <td>NaN</td>\n",
              "    </tr>\n",
              "    <tr>\n",
              "      <th>Transmission</th>\n",
              "      <td>183230</td>\n",
              "      <td>8</td>\n",
              "      <td>Standard</td>\n",
              "      <td>140328</td>\n",
              "      <td>NaN</td>\n",
              "      <td>NaN</td>\n",
              "      <td>NaN</td>\n",
              "      <td>NaN</td>\n",
              "      <td>NaN</td>\n",
              "      <td>NaN</td>\n",
              "      <td>NaN</td>\n",
              "      <td>NaN</td>\n",
              "      <td>NaN</td>\n",
              "    </tr>\n",
              "    <tr>\n",
              "      <th>Turbocharged</th>\n",
              "      <td>79134</td>\n",
              "      <td>2</td>\n",
              "      <td>None or Unspecified</td>\n",
              "      <td>75211</td>\n",
              "      <td>NaN</td>\n",
              "      <td>NaN</td>\n",
              "      <td>NaN</td>\n",
              "      <td>NaN</td>\n",
              "      <td>NaN</td>\n",
              "      <td>NaN</td>\n",
              "      <td>NaN</td>\n",
              "      <td>NaN</td>\n",
              "      <td>NaN</td>\n",
              "    </tr>\n",
              "    <tr>\n",
              "      <th>Blade_Extension</th>\n",
              "      <td>25219</td>\n",
              "      <td>2</td>\n",
              "      <td>None or Unspecified</td>\n",
              "      <td>24692</td>\n",
              "      <td>NaN</td>\n",
              "      <td>NaN</td>\n",
              "      <td>NaN</td>\n",
              "      <td>NaN</td>\n",
              "      <td>NaN</td>\n",
              "      <td>NaN</td>\n",
              "      <td>NaN</td>\n",
              "      <td>NaN</td>\n",
              "      <td>NaN</td>\n",
              "    </tr>\n",
              "    <tr>\n",
              "      <th>Blade_Width</th>\n",
              "      <td>25219</td>\n",
              "      <td>6</td>\n",
              "      <td>14'</td>\n",
              "      <td>9615</td>\n",
              "      <td>NaN</td>\n",
              "      <td>NaN</td>\n",
              "      <td>NaN</td>\n",
              "      <td>NaN</td>\n",
              "      <td>NaN</td>\n",
              "      <td>NaN</td>\n",
              "      <td>NaN</td>\n",
              "      <td>NaN</td>\n",
              "      <td>NaN</td>\n",
              "    </tr>\n",
              "    <tr>\n",
              "      <th>Enclosure_Type</th>\n",
              "      <td>25219</td>\n",
              "      <td>3</td>\n",
              "      <td>None or Unspecified</td>\n",
              "      <td>21923</td>\n",
              "      <td>NaN</td>\n",
              "      <td>NaN</td>\n",
              "      <td>NaN</td>\n",
              "      <td>NaN</td>\n",
              "      <td>NaN</td>\n",
              "      <td>NaN</td>\n",
              "      <td>NaN</td>\n",
              "      <td>NaN</td>\n",
              "      <td>NaN</td>\n",
              "    </tr>\n",
              "    <tr>\n",
              "      <th>Engine_Horsepower</th>\n",
              "      <td>25219</td>\n",
              "      <td>2</td>\n",
              "      <td>No</td>\n",
              "      <td>23937</td>\n",
              "      <td>NaN</td>\n",
              "      <td>NaN</td>\n",
              "      <td>NaN</td>\n",
              "      <td>NaN</td>\n",
              "      <td>NaN</td>\n",
              "      <td>NaN</td>\n",
              "      <td>NaN</td>\n",
              "      <td>NaN</td>\n",
              "      <td>NaN</td>\n",
              "    </tr>\n",
              "    <tr>\n",
              "      <th>Hydraulics</th>\n",
              "      <td>320570</td>\n",
              "      <td>12</td>\n",
              "      <td>2 Valve</td>\n",
              "      <td>141404</td>\n",
              "      <td>NaN</td>\n",
              "      <td>NaN</td>\n",
              "      <td>NaN</td>\n",
              "      <td>NaN</td>\n",
              "      <td>NaN</td>\n",
              "      <td>NaN</td>\n",
              "      <td>NaN</td>\n",
              "      <td>NaN</td>\n",
              "      <td>NaN</td>\n",
              "    </tr>\n",
              "    <tr>\n",
              "      <th>Pushblock</th>\n",
              "      <td>25219</td>\n",
              "      <td>2</td>\n",
              "      <td>None or Unspecified</td>\n",
              "      <td>19463</td>\n",
              "      <td>NaN</td>\n",
              "      <td>NaN</td>\n",
              "      <td>NaN</td>\n",
              "      <td>NaN</td>\n",
              "      <td>NaN</td>\n",
              "      <td>NaN</td>\n",
              "      <td>NaN</td>\n",
              "      <td>NaN</td>\n",
              "      <td>NaN</td>\n",
              "    </tr>\n",
              "    <tr>\n",
              "      <th>Ripper</th>\n",
              "      <td>104137</td>\n",
              "      <td>4</td>\n",
              "      <td>None or Unspecified</td>\n",
              "      <td>83452</td>\n",
              "      <td>NaN</td>\n",
              "      <td>NaN</td>\n",
              "      <td>NaN</td>\n",
              "      <td>NaN</td>\n",
              "      <td>NaN</td>\n",
              "      <td>NaN</td>\n",
              "      <td>NaN</td>\n",
              "      <td>NaN</td>\n",
              "      <td>NaN</td>\n",
              "    </tr>\n",
              "    <tr>\n",
              "      <th>Scarifier</th>\n",
              "      <td>25230</td>\n",
              "      <td>2</td>\n",
              "      <td>None or Unspecified</td>\n",
              "      <td>12719</td>\n",
              "      <td>NaN</td>\n",
              "      <td>NaN</td>\n",
              "      <td>NaN</td>\n",
              "      <td>NaN</td>\n",
              "      <td>NaN</td>\n",
              "      <td>NaN</td>\n",
              "      <td>NaN</td>\n",
              "      <td>NaN</td>\n",
              "      <td>NaN</td>\n",
              "    </tr>\n",
              "    <tr>\n",
              "      <th>Tip_Control</th>\n",
              "      <td>25219</td>\n",
              "      <td>3</td>\n",
              "      <td>None or Unspecified</td>\n",
              "      <td>16207</td>\n",
              "      <td>NaN</td>\n",
              "      <td>NaN</td>\n",
              "      <td>NaN</td>\n",
              "      <td>NaN</td>\n",
              "      <td>NaN</td>\n",
              "      <td>NaN</td>\n",
              "      <td>NaN</td>\n",
              "      <td>NaN</td>\n",
              "      <td>NaN</td>\n",
              "    </tr>\n",
              "    <tr>\n",
              "      <th>Tire_Size</th>\n",
              "      <td>94718</td>\n",
              "      <td>17</td>\n",
              "      <td>None or Unspecified</td>\n",
              "      <td>46339</td>\n",
              "      <td>NaN</td>\n",
              "      <td>NaN</td>\n",
              "      <td>NaN</td>\n",
              "      <td>NaN</td>\n",
              "      <td>NaN</td>\n",
              "      <td>NaN</td>\n",
              "      <td>NaN</td>\n",
              "      <td>NaN</td>\n",
              "      <td>NaN</td>\n",
              "    </tr>\n",
              "    <tr>\n",
              "      <th>Coupler</th>\n",
              "      <td>213952</td>\n",
              "      <td>3</td>\n",
              "      <td>None or Unspecified</td>\n",
              "      <td>184582</td>\n",
              "      <td>NaN</td>\n",
              "      <td>NaN</td>\n",
              "      <td>NaN</td>\n",
              "      <td>NaN</td>\n",
              "      <td>NaN</td>\n",
              "      <td>NaN</td>\n",
              "      <td>NaN</td>\n",
              "      <td>NaN</td>\n",
              "      <td>NaN</td>\n",
              "    </tr>\n",
              "    <tr>\n",
              "      <th>Coupler_System</th>\n",
              "      <td>43458</td>\n",
              "      <td>2</td>\n",
              "      <td>None or Unspecified</td>\n",
              "      <td>40430</td>\n",
              "      <td>NaN</td>\n",
              "      <td>NaN</td>\n",
              "      <td>NaN</td>\n",
              "      <td>NaN</td>\n",
              "      <td>NaN</td>\n",
              "      <td>NaN</td>\n",
              "      <td>NaN</td>\n",
              "      <td>NaN</td>\n",
              "      <td>NaN</td>\n",
              "    </tr>\n",
              "    <tr>\n",
              "      <th>Grouser_Tracks</th>\n",
              "      <td>43362</td>\n",
              "      <td>2</td>\n",
              "      <td>None or Unspecified</td>\n",
              "      <td>40515</td>\n",
              "      <td>NaN</td>\n",
              "      <td>NaN</td>\n",
              "      <td>NaN</td>\n",
              "      <td>NaN</td>\n",
              "      <td>NaN</td>\n",
              "      <td>NaN</td>\n",
              "      <td>NaN</td>\n",
              "      <td>NaN</td>\n",
              "      <td>NaN</td>\n",
              "    </tr>\n",
              "    <tr>\n",
              "      <th>Hydraulics_Flow</th>\n",
              "      <td>43362</td>\n",
              "      <td>3</td>\n",
              "      <td>Standard</td>\n",
              "      <td>42784</td>\n",
              "      <td>NaN</td>\n",
              "      <td>NaN</td>\n",
              "      <td>NaN</td>\n",
              "      <td>NaN</td>\n",
              "      <td>NaN</td>\n",
              "      <td>NaN</td>\n",
              "      <td>NaN</td>\n",
              "      <td>NaN</td>\n",
              "      <td>NaN</td>\n",
              "    </tr>\n",
              "    <tr>\n",
              "      <th>Track_Type</th>\n",
              "      <td>99153</td>\n",
              "      <td>2</td>\n",
              "      <td>Steel</td>\n",
              "      <td>84880</td>\n",
              "      <td>NaN</td>\n",
              "      <td>NaN</td>\n",
              "      <td>NaN</td>\n",
              "      <td>NaN</td>\n",
              "      <td>NaN</td>\n",
              "      <td>NaN</td>\n",
              "      <td>NaN</td>\n",
              "      <td>NaN</td>\n",
              "      <td>NaN</td>\n",
              "    </tr>\n",
              "    <tr>\n",
              "      <th>Undercarriage_Pad_Width</th>\n",
              "      <td>99872</td>\n",
              "      <td>19</td>\n",
              "      <td>None or Unspecified</td>\n",
              "      <td>79651</td>\n",
              "      <td>NaN</td>\n",
              "      <td>NaN</td>\n",
              "      <td>NaN</td>\n",
              "      <td>NaN</td>\n",
              "      <td>NaN</td>\n",
              "      <td>NaN</td>\n",
              "      <td>NaN</td>\n",
              "      <td>NaN</td>\n",
              "      <td>NaN</td>\n",
              "    </tr>\n",
              "    <tr>\n",
              "      <th>Stick_Length</th>\n",
              "      <td>99218</td>\n",
              "      <td>29</td>\n",
              "      <td>None or Unspecified</td>\n",
              "      <td>78820</td>\n",
              "      <td>NaN</td>\n",
              "      <td>NaN</td>\n",
              "      <td>NaN</td>\n",
              "      <td>NaN</td>\n",
              "      <td>NaN</td>\n",
              "      <td>NaN</td>\n",
              "      <td>NaN</td>\n",
              "      <td>NaN</td>\n",
              "      <td>NaN</td>\n",
              "    </tr>\n",
              "    <tr>\n",
              "      <th>Thumb</th>\n",
              "      <td>99288</td>\n",
              "      <td>3</td>\n",
              "      <td>None or Unspecified</td>\n",
              "      <td>83093</td>\n",
              "      <td>NaN</td>\n",
              "      <td>NaN</td>\n",
              "      <td>NaN</td>\n",
              "      <td>NaN</td>\n",
              "      <td>NaN</td>\n",
              "      <td>NaN</td>\n",
              "      <td>NaN</td>\n",
              "      <td>NaN</td>\n",
              "      <td>NaN</td>\n",
              "    </tr>\n",
              "    <tr>\n",
              "      <th>Pattern_Changer</th>\n",
              "      <td>99218</td>\n",
              "      <td>3</td>\n",
              "      <td>None or Unspecified</td>\n",
              "      <td>90255</td>\n",
              "      <td>NaN</td>\n",
              "      <td>NaN</td>\n",
              "      <td>NaN</td>\n",
              "      <td>NaN</td>\n",
              "      <td>NaN</td>\n",
              "      <td>NaN</td>\n",
              "      <td>NaN</td>\n",
              "      <td>NaN</td>\n",
              "      <td>NaN</td>\n",
              "    </tr>\n",
              "    <tr>\n",
              "      <th>Grouser_Type</th>\n",
              "      <td>99153</td>\n",
              "      <td>3</td>\n",
              "      <td>Double</td>\n",
              "      <td>84653</td>\n",
              "      <td>NaN</td>\n",
              "      <td>NaN</td>\n",
              "      <td>NaN</td>\n",
              "      <td>NaN</td>\n",
              "      <td>NaN</td>\n",
              "      <td>NaN</td>\n",
              "      <td>NaN</td>\n",
              "      <td>NaN</td>\n",
              "      <td>NaN</td>\n",
              "    </tr>\n",
              "    <tr>\n",
              "      <th>Backhoe_Mounting</th>\n",
              "      <td>78672</td>\n",
              "      <td>2</td>\n",
              "      <td>None or Unspecified</td>\n",
              "      <td>78652</td>\n",
              "      <td>NaN</td>\n",
              "      <td>NaN</td>\n",
              "      <td>NaN</td>\n",
              "      <td>NaN</td>\n",
              "      <td>NaN</td>\n",
              "      <td>NaN</td>\n",
              "      <td>NaN</td>\n",
              "      <td>NaN</td>\n",
              "      <td>NaN</td>\n",
              "    </tr>\n",
              "    <tr>\n",
              "      <th>Blade_Type</th>\n",
              "      <td>79833</td>\n",
              "      <td>10</td>\n",
              "      <td>PAT</td>\n",
              "      <td>38612</td>\n",
              "      <td>NaN</td>\n",
              "      <td>NaN</td>\n",
              "      <td>NaN</td>\n",
              "      <td>NaN</td>\n",
              "      <td>NaN</td>\n",
              "      <td>NaN</td>\n",
              "      <td>NaN</td>\n",
              "      <td>NaN</td>\n",
              "      <td>NaN</td>\n",
              "    </tr>\n",
              "    <tr>\n",
              "      <th>Travel_Controls</th>\n",
              "      <td>79834</td>\n",
              "      <td>7</td>\n",
              "      <td>None or Unspecified</td>\n",
              "      <td>69923</td>\n",
              "      <td>NaN</td>\n",
              "      <td>NaN</td>\n",
              "      <td>NaN</td>\n",
              "      <td>NaN</td>\n",
              "      <td>NaN</td>\n",
              "      <td>NaN</td>\n",
              "      <td>NaN</td>\n",
              "      <td>NaN</td>\n",
              "      <td>NaN</td>\n",
              "    </tr>\n",
              "    <tr>\n",
              "      <th>Differential_Type</th>\n",
              "      <td>69411</td>\n",
              "      <td>4</td>\n",
              "      <td>Standard</td>\n",
              "      <td>68073</td>\n",
              "      <td>NaN</td>\n",
              "      <td>NaN</td>\n",
              "      <td>NaN</td>\n",
              "      <td>NaN</td>\n",
              "      <td>NaN</td>\n",
              "      <td>NaN</td>\n",
              "      <td>NaN</td>\n",
              "      <td>NaN</td>\n",
              "      <td>NaN</td>\n",
              "    </tr>\n",
              "    <tr>\n",
              "      <th>Steering_Controls</th>\n",
              "      <td>69369</td>\n",
              "      <td>5</td>\n",
              "      <td>Conventional</td>\n",
              "      <td>68679</td>\n",
              "      <td>NaN</td>\n",
              "      <td>NaN</td>\n",
              "      <td>NaN</td>\n",
              "      <td>NaN</td>\n",
              "      <td>NaN</td>\n",
              "      <td>NaN</td>\n",
              "      <td>NaN</td>\n",
              "      <td>NaN</td>\n",
              "      <td>NaN</td>\n",
              "    </tr>\n",
              "  </tbody>\n",
              "</table>\n",
              "</div>"
            ],
            "text/plain": [
              "                           count unique  \\\n",
              "SalesID                   401125    NaN   \n",
              "SalePrice                 401125    NaN   \n",
              "MachineID                 401125    NaN   \n",
              "ModelID                   401125    NaN   \n",
              "datasource                401125    NaN   \n",
              "auctioneerID              380989    NaN   \n",
              "YearMade                  401125    NaN   \n",
              "MachineHoursCurrentMeter  142765    NaN   \n",
              "UsageBand                  69639      3   \n",
              "saledate                  401125   3919   \n",
              "fiModelDesc               401125   4999   \n",
              "fiBaseModel               401125   1950   \n",
              "fiSecondaryDesc           263934    175   \n",
              "fiModelSeries              56908    122   \n",
              "fiModelDescriptor          71919    139   \n",
              "ProductSize               190350      6   \n",
              "fiProductClassDesc        401125     74   \n",
              "state                     401125     53   \n",
              "ProductGroup              401125      6   \n",
              "ProductGroupDesc          401125      6   \n",
              "Drive_System              104361      4   \n",
              "Enclosure                 400800      6   \n",
              "Forks                     192077      2   \n",
              "Pad_Type                   79134      4   \n",
              "Ride_Control              148606      3   \n",
              "Stick                      79134      2   \n",
              "Transmission              183230      8   \n",
              "Turbocharged               79134      2   \n",
              "Blade_Extension            25219      2   \n",
              "Blade_Width                25219      6   \n",
              "Enclosure_Type             25219      3   \n",
              "Engine_Horsepower          25219      2   \n",
              "Hydraulics                320570     12   \n",
              "Pushblock                  25219      2   \n",
              "Ripper                    104137      4   \n",
              "Scarifier                  25230      2   \n",
              "Tip_Control                25219      3   \n",
              "Tire_Size                  94718     17   \n",
              "Coupler                   213952      3   \n",
              "Coupler_System             43458      2   \n",
              "Grouser_Tracks             43362      2   \n",
              "Hydraulics_Flow            43362      3   \n",
              "Track_Type                 99153      2   \n",
              "Undercarriage_Pad_Width    99872     19   \n",
              "Stick_Length               99218     29   \n",
              "Thumb                      99288      3   \n",
              "Pattern_Changer            99218      3   \n",
              "Grouser_Type               99153      3   \n",
              "Backhoe_Mounting           78672      2   \n",
              "Blade_Type                 79833     10   \n",
              "Travel_Controls            79834      7   \n",
              "Differential_Type          69411      4   \n",
              "Steering_Controls          69369      5   \n",
              "\n",
              "                                                                        top  \\\n",
              "SalesID                                                                 NaN   \n",
              "SalePrice                                                               NaN   \n",
              "MachineID                                                               NaN   \n",
              "ModelID                                                                 NaN   \n",
              "datasource                                                              NaN   \n",
              "auctioneerID                                                            NaN   \n",
              "YearMade                                                                NaN   \n",
              "MachineHoursCurrentMeter                                                NaN   \n",
              "UsageBand                                                            Medium   \n",
              "saledate                                                2009-02-16 00:00:00   \n",
              "fiModelDesc                                                            310G   \n",
              "fiBaseModel                                                             580   \n",
              "fiSecondaryDesc                                                           C   \n",
              "fiModelSeries                                                            II   \n",
              "fiModelDescriptor                                                         L   \n",
              "ProductSize                                                          Medium   \n",
              "fiProductClassDesc        Backhoe Loader - 14.0 to 15.0 Ft Standard Digg...   \n",
              "state                                                               Florida   \n",
              "ProductGroup                                                            TEX   \n",
              "ProductGroupDesc                                           Track Excavators   \n",
              "Drive_System                                                Two Wheel Drive   \n",
              "Enclosure                                                             OROPS   \n",
              "Forks                                                   None or Unspecified   \n",
              "Pad_Type                                                None or Unspecified   \n",
              "Ride_Control                                                             No   \n",
              "Stick                                                              Standard   \n",
              "Transmission                                                       Standard   \n",
              "Turbocharged                                            None or Unspecified   \n",
              "Blade_Extension                                         None or Unspecified   \n",
              "Blade_Width                                                             14'   \n",
              "Enclosure_Type                                          None or Unspecified   \n",
              "Engine_Horsepower                                                        No   \n",
              "Hydraulics                                                          2 Valve   \n",
              "Pushblock                                               None or Unspecified   \n",
              "Ripper                                                  None or Unspecified   \n",
              "Scarifier                                               None or Unspecified   \n",
              "Tip_Control                                             None or Unspecified   \n",
              "Tire_Size                                               None or Unspecified   \n",
              "Coupler                                                 None or Unspecified   \n",
              "Coupler_System                                          None or Unspecified   \n",
              "Grouser_Tracks                                          None or Unspecified   \n",
              "Hydraulics_Flow                                                    Standard   \n",
              "Track_Type                                                            Steel   \n",
              "Undercarriage_Pad_Width                                 None or Unspecified   \n",
              "Stick_Length                                            None or Unspecified   \n",
              "Thumb                                                   None or Unspecified   \n",
              "Pattern_Changer                                         None or Unspecified   \n",
              "Grouser_Type                                                         Double   \n",
              "Backhoe_Mounting                                        None or Unspecified   \n",
              "Blade_Type                                                              PAT   \n",
              "Travel_Controls                                         None or Unspecified   \n",
              "Differential_Type                                                  Standard   \n",
              "Steering_Controls                                              Conventional   \n",
              "\n",
              "                            freq                first                 last  \\\n",
              "SalesID                      NaN                  NaN                  NaN   \n",
              "SalePrice                    NaN                  NaN                  NaN   \n",
              "MachineID                    NaN                  NaN                  NaN   \n",
              "ModelID                      NaN                  NaN                  NaN   \n",
              "datasource                   NaN                  NaN                  NaN   \n",
              "auctioneerID                 NaN                  NaN                  NaN   \n",
              "YearMade                     NaN                  NaN                  NaN   \n",
              "MachineHoursCurrentMeter     NaN                  NaN                  NaN   \n",
              "UsageBand                  33985                  NaN                  NaN   \n",
              "saledate                    1932  1989-01-17 00:00:00  2011-12-30 00:00:00   \n",
              "fiModelDesc                 5039                  NaN                  NaN   \n",
              "fiBaseModel                19798                  NaN                  NaN   \n",
              "fiSecondaryDesc            43235                  NaN                  NaN   \n",
              "fiModelSeries              13202                  NaN                  NaN   \n",
              "fiModelDescriptor          15875                  NaN                  NaN   \n",
              "ProductSize                62274                  NaN                  NaN   \n",
              "fiProductClassDesc         56166                  NaN                  NaN   \n",
              "state                      63944                  NaN                  NaN   \n",
              "ProductGroup              101167                  NaN                  NaN   \n",
              "ProductGroupDesc          101167                  NaN                  NaN   \n",
              "Drive_System               46139                  NaN                  NaN   \n",
              "Enclosure                 173932                  NaN                  NaN   \n",
              "Forks                     178300                  NaN                  NaN   \n",
              "Pad_Type                   70614                  NaN                  NaN   \n",
              "Ride_Control               77685                  NaN                  NaN   \n",
              "Stick                      48829                  NaN                  NaN   \n",
              "Transmission              140328                  NaN                  NaN   \n",
              "Turbocharged               75211                  NaN                  NaN   \n",
              "Blade_Extension            24692                  NaN                  NaN   \n",
              "Blade_Width                 9615                  NaN                  NaN   \n",
              "Enclosure_Type             21923                  NaN                  NaN   \n",
              "Engine_Horsepower          23937                  NaN                  NaN   \n",
              "Hydraulics                141404                  NaN                  NaN   \n",
              "Pushblock                  19463                  NaN                  NaN   \n",
              "Ripper                     83452                  NaN                  NaN   \n",
              "Scarifier                  12719                  NaN                  NaN   \n",
              "Tip_Control                16207                  NaN                  NaN   \n",
              "Tire_Size                  46339                  NaN                  NaN   \n",
              "Coupler                   184582                  NaN                  NaN   \n",
              "Coupler_System             40430                  NaN                  NaN   \n",
              "Grouser_Tracks             40515                  NaN                  NaN   \n",
              "Hydraulics_Flow            42784                  NaN                  NaN   \n",
              "Track_Type                 84880                  NaN                  NaN   \n",
              "Undercarriage_Pad_Width    79651                  NaN                  NaN   \n",
              "Stick_Length               78820                  NaN                  NaN   \n",
              "Thumb                      83093                  NaN                  NaN   \n",
              "Pattern_Changer            90255                  NaN                  NaN   \n",
              "Grouser_Type               84653                  NaN                  NaN   \n",
              "Backhoe_Mounting           78652                  NaN                  NaN   \n",
              "Blade_Type                 38612                  NaN                  NaN   \n",
              "Travel_Controls            69923                  NaN                  NaN   \n",
              "Differential_Type          68073                  NaN                  NaN   \n",
              "Steering_Controls          68679                  NaN                  NaN   \n",
              "\n",
              "                                 mean      std          min          25%  \\\n",
              "SalesID                   1.91971e+06   909021  1.13925e+06  1.41837e+06   \n",
              "SalePrice                     31099.7  23036.9         4750        14500   \n",
              "MachineID                  1.2179e+06   440992            0   1.0887e+06   \n",
              "ModelID                        6889.7  6221.78           28         3259   \n",
              "datasource                    134.666  8.96224          121          132   \n",
              "auctioneerID                  6.55604  16.9768            0            1   \n",
              "YearMade                      1899.16  291.797         1000         1985   \n",
              "MachineHoursCurrentMeter      3457.96  27590.3            0            0   \n",
              "UsageBand                         NaN      NaN          NaN          NaN   \n",
              "saledate                          NaN      NaN          NaN          NaN   \n",
              "fiModelDesc                       NaN      NaN          NaN          NaN   \n",
              "fiBaseModel                       NaN      NaN          NaN          NaN   \n",
              "fiSecondaryDesc                   NaN      NaN          NaN          NaN   \n",
              "fiModelSeries                     NaN      NaN          NaN          NaN   \n",
              "fiModelDescriptor                 NaN      NaN          NaN          NaN   \n",
              "ProductSize                       NaN      NaN          NaN          NaN   \n",
              "fiProductClassDesc                NaN      NaN          NaN          NaN   \n",
              "state                             NaN      NaN          NaN          NaN   \n",
              "ProductGroup                      NaN      NaN          NaN          NaN   \n",
              "ProductGroupDesc                  NaN      NaN          NaN          NaN   \n",
              "Drive_System                      NaN      NaN          NaN          NaN   \n",
              "Enclosure                         NaN      NaN          NaN          NaN   \n",
              "Forks                             NaN      NaN          NaN          NaN   \n",
              "Pad_Type                          NaN      NaN          NaN          NaN   \n",
              "Ride_Control                      NaN      NaN          NaN          NaN   \n",
              "Stick                             NaN      NaN          NaN          NaN   \n",
              "Transmission                      NaN      NaN          NaN          NaN   \n",
              "Turbocharged                      NaN      NaN          NaN          NaN   \n",
              "Blade_Extension                   NaN      NaN          NaN          NaN   \n",
              "Blade_Width                       NaN      NaN          NaN          NaN   \n",
              "Enclosure_Type                    NaN      NaN          NaN          NaN   \n",
              "Engine_Horsepower                 NaN      NaN          NaN          NaN   \n",
              "Hydraulics                        NaN      NaN          NaN          NaN   \n",
              "Pushblock                         NaN      NaN          NaN          NaN   \n",
              "Ripper                            NaN      NaN          NaN          NaN   \n",
              "Scarifier                         NaN      NaN          NaN          NaN   \n",
              "Tip_Control                       NaN      NaN          NaN          NaN   \n",
              "Tire_Size                         NaN      NaN          NaN          NaN   \n",
              "Coupler                           NaN      NaN          NaN          NaN   \n",
              "Coupler_System                    NaN      NaN          NaN          NaN   \n",
              "Grouser_Tracks                    NaN      NaN          NaN          NaN   \n",
              "Hydraulics_Flow                   NaN      NaN          NaN          NaN   \n",
              "Track_Type                        NaN      NaN          NaN          NaN   \n",
              "Undercarriage_Pad_Width           NaN      NaN          NaN          NaN   \n",
              "Stick_Length                      NaN      NaN          NaN          NaN   \n",
              "Thumb                             NaN      NaN          NaN          NaN   \n",
              "Pattern_Changer                   NaN      NaN          NaN          NaN   \n",
              "Grouser_Type                      NaN      NaN          NaN          NaN   \n",
              "Backhoe_Mounting                  NaN      NaN          NaN          NaN   \n",
              "Blade_Type                        NaN      NaN          NaN          NaN   \n",
              "Travel_Controls                   NaN      NaN          NaN          NaN   \n",
              "Differential_Type                 NaN      NaN          NaN          NaN   \n",
              "Steering_Controls                 NaN      NaN          NaN          NaN   \n",
              "\n",
              "                                  50%          75%          max  \n",
              "SalesID                   1.63942e+06  2.24271e+06  6.33334e+06  \n",
              "SalePrice                       24000        40000       142000  \n",
              "MachineID                 1.27949e+06  1.46807e+06  2.48633e+06  \n",
              "ModelID                          4604         8724        37198  \n",
              "datasource                        132          136          172  \n",
              "auctioneerID                        2            4           99  \n",
              "YearMade                         1995         2000         2013  \n",
              "MachineHoursCurrentMeter            0         3025   2.4833e+06  \n",
              "UsageBand                         NaN          NaN          NaN  \n",
              "saledate                          NaN          NaN          NaN  \n",
              "fiModelDesc                       NaN          NaN          NaN  \n",
              "fiBaseModel                       NaN          NaN          NaN  \n",
              "fiSecondaryDesc                   NaN          NaN          NaN  \n",
              "fiModelSeries                     NaN          NaN          NaN  \n",
              "fiModelDescriptor                 NaN          NaN          NaN  \n",
              "ProductSize                       NaN          NaN          NaN  \n",
              "fiProductClassDesc                NaN          NaN          NaN  \n",
              "state                             NaN          NaN          NaN  \n",
              "ProductGroup                      NaN          NaN          NaN  \n",
              "ProductGroupDesc                  NaN          NaN          NaN  \n",
              "Drive_System                      NaN          NaN          NaN  \n",
              "Enclosure                         NaN          NaN          NaN  \n",
              "Forks                             NaN          NaN          NaN  \n",
              "Pad_Type                          NaN          NaN          NaN  \n",
              "Ride_Control                      NaN          NaN          NaN  \n",
              "Stick                             NaN          NaN          NaN  \n",
              "Transmission                      NaN          NaN          NaN  \n",
              "Turbocharged                      NaN          NaN          NaN  \n",
              "Blade_Extension                   NaN          NaN          NaN  \n",
              "Blade_Width                       NaN          NaN          NaN  \n",
              "Enclosure_Type                    NaN          NaN          NaN  \n",
              "Engine_Horsepower                 NaN          NaN          NaN  \n",
              "Hydraulics                        NaN          NaN          NaN  \n",
              "Pushblock                         NaN          NaN          NaN  \n",
              "Ripper                            NaN          NaN          NaN  \n",
              "Scarifier                         NaN          NaN          NaN  \n",
              "Tip_Control                       NaN          NaN          NaN  \n",
              "Tire_Size                         NaN          NaN          NaN  \n",
              "Coupler                           NaN          NaN          NaN  \n",
              "Coupler_System                    NaN          NaN          NaN  \n",
              "Grouser_Tracks                    NaN          NaN          NaN  \n",
              "Hydraulics_Flow                   NaN          NaN          NaN  \n",
              "Track_Type                        NaN          NaN          NaN  \n",
              "Undercarriage_Pad_Width           NaN          NaN          NaN  \n",
              "Stick_Length                      NaN          NaN          NaN  \n",
              "Thumb                             NaN          NaN          NaN  \n",
              "Pattern_Changer                   NaN          NaN          NaN  \n",
              "Grouser_Type                      NaN          NaN          NaN  \n",
              "Backhoe_Mounting                  NaN          NaN          NaN  \n",
              "Blade_Type                        NaN          NaN          NaN  \n",
              "Travel_Controls                   NaN          NaN          NaN  \n",
              "Differential_Type                 NaN          NaN          NaN  \n",
              "Steering_Controls                 NaN          NaN          NaN  "
            ]
          },
          "metadata": {
            "tags": []
          }
        }
      ]
    },
    {
      "metadata": {
        "id": "gejQFBuGPNfb",
        "colab_type": "text"
      },
      "cell_type": "markdown",
      "source": [
        "It's important to note what metric is being used for a project. Generally, selecting the metric(s) is an important part of the project setup. However, in this case Kaggle tells us what metric to use: RMSLE (root mean squared log error) between the actual and predicted auction prices. Therefore we take the log of the prices, so that RMSE will give us what we need."
      ]
    },
    {
      "metadata": {
        "id": "rQVyX7dBPNf5",
        "colab_type": "code",
        "colab": {}
      },
      "cell_type": "code",
      "source": [
        "df_raw.SalePrice = np.log(df_raw.SalePrice)"
      ],
      "execution_count": 0,
      "outputs": []
    },
    {
      "metadata": {
        "id": "EKJPOqheVUqu",
        "colab_type": "code",
        "colab": {
          "base_uri": "https://localhost:8080/",
          "height": 1058
        },
        "outputId": "d53ecfb2-69be-49d0-91c0-24885295c345"
      },
      "cell_type": "code",
      "source": [
        "df_raw.SalePrice"
      ],
      "execution_count": 14,
      "outputs": [
        {
          "output_type": "execute_result",
          "data": {
            "text/plain": [
              "0         11.097410\n",
              "1         10.950807\n",
              "2          9.210340\n",
              "3         10.558414\n",
              "4          9.305651\n",
              "5         10.184900\n",
              "6          9.952278\n",
              "7         10.203592\n",
              "8          9.975808\n",
              "9         11.082143\n",
              "10        10.085809\n",
              "11        10.021271\n",
              "12        10.491274\n",
              "13        10.325482\n",
              "14        10.239960\n",
              "15         9.852194\n",
              "16         9.510445\n",
              "17         9.159047\n",
              "18         9.433484\n",
              "19         9.350102\n",
              "20        10.621327\n",
              "21        10.448715\n",
              "22        10.165852\n",
              "23        11.198215\n",
              "24        10.404263\n",
              "25         9.433484\n",
              "26         9.648595\n",
              "27        10.878047\n",
              "28        10.736397\n",
              "29        11.396392\n",
              "            ...    \n",
              "401095     9.259131\n",
              "401096     9.210340\n",
              "401097     9.047821\n",
              "401098     9.259131\n",
              "401099     9.305651\n",
              "401100     9.259131\n",
              "401101     9.210340\n",
              "401102     9.259131\n",
              "401103     9.433484\n",
              "401104     9.259131\n",
              "401105     9.210340\n",
              "401106     9.259131\n",
              "401107     9.433484\n",
              "401108     9.259131\n",
              "401109     9.259131\n",
              "401110     9.259131\n",
              "401111     9.210340\n",
              "401112     9.259131\n",
              "401113     9.259131\n",
              "401114     9.433484\n",
              "401115     9.210340\n",
              "401116     9.047821\n",
              "401117     9.210340\n",
              "401118     9.159047\n",
              "401119     9.047821\n",
              "401120     9.259131\n",
              "401121     9.305651\n",
              "401122     9.350102\n",
              "401123     9.104980\n",
              "401124     8.955448\n",
              "Name: SalePrice, Length: 401125, dtype: float64"
            ]
          },
          "metadata": {
            "tags": []
          },
          "execution_count": 14
        }
      ]
    },
    {
      "metadata": {
        "id": "WjlRXqIxPNge",
        "colab_type": "text"
      },
      "cell_type": "markdown",
      "source": [
        "### Initial processing"
      ]
    },
    {
      "metadata": {
        "id": "9hzsyJxWWUDk",
        "colab_type": "code",
        "colab": {}
      },
      "cell_type": "code",
      "source": [
        "from sklearn.ensemble import RandomForestRegressor, RandomForestClassifier"
      ],
      "execution_count": 0,
      "outputs": []
    },
    {
      "metadata": {
        "id": "vLXVUrLcPNgj",
        "colab_type": "code",
        "colab": {}
      },
      "cell_type": "code",
      "source": [
        "m = RandomForestRegressor(n_jobs=-1)\n",
        "# The following code is supposed to fail due to string values in the input data\n",
        "#m.fit(df_raw.drop('SalePrice', axis=1), df_raw.SalePrice)"
      ],
      "execution_count": 0,
      "outputs": []
    },
    {
      "metadata": {
        "id": "V8is9amdXK6e",
        "colab_type": "code",
        "colab": {}
      },
      "cell_type": "code",
      "source": [
        "#?df_raw.drop"
      ],
      "execution_count": 0,
      "outputs": []
    },
    {
      "metadata": {
        "id": "FWJC-oHbPNhV",
        "colab_type": "text"
      },
      "cell_type": "markdown",
      "source": [
        "This dataset contains a mix of **continuous** and **categorical** variables.\n",
        "\n",
        "The following method extracts particular date fields from a complete datetime for the purpose of constructing categoricals.  You should always consider this feature extraction step when working with date-time. Without expanding your date-time into these additional fields, you can't capture any trend/cyclical behavior as a function of time at any of these granularities."
      ]
    },
    {
      "metadata": {
        "id": "wJCSCROXYVZH",
        "colab_type": "text"
      },
      "cell_type": "markdown",
      "source": [
        ""
      ]
    },
    {
      "metadata": {
        "id": "AmHvVculXyw_",
        "colab_type": "code",
        "colab": {
          "base_uri": "https://localhost:8080/",
          "height": 1058
        },
        "outputId": "7ee61742-0577-4956-c009-11874a58e2d6"
      },
      "cell_type": "code",
      "source": [
        "df_raw.saledate"
      ],
      "execution_count": 19,
      "outputs": [
        {
          "output_type": "execute_result",
          "data": {
            "text/plain": [
              "0        2006-11-16\n",
              "1        2004-03-26\n",
              "2        2004-02-26\n",
              "3        2011-05-19\n",
              "4        2009-07-23\n",
              "5        2008-12-18\n",
              "6        2004-08-26\n",
              "7        2005-11-17\n",
              "8        2009-08-27\n",
              "9        2007-08-09\n",
              "10       2008-08-21\n",
              "11       2006-08-24\n",
              "12       2005-10-20\n",
              "13       2006-01-26\n",
              "14       2006-01-03\n",
              "15       2006-11-16\n",
              "16       2007-06-14\n",
              "17       2010-01-28\n",
              "18       2006-03-09\n",
              "19       2005-11-17\n",
              "20       2006-05-18\n",
              "21       2006-10-19\n",
              "22       2007-10-25\n",
              "23       2006-10-19\n",
              "24       2004-05-20\n",
              "25       2006-03-09\n",
              "26       2006-03-09\n",
              "27       2007-02-22\n",
              "28       2007-08-09\n",
              "29       2006-06-01\n",
              "            ...    \n",
              "401095   2011-12-14\n",
              "401096   2011-09-15\n",
              "401097   2011-10-28\n",
              "401098   2011-08-16\n",
              "401099   2011-12-14\n",
              "401100   2011-08-16\n",
              "401101   2011-12-14\n",
              "401102   2011-08-16\n",
              "401103   2011-09-15\n",
              "401104   2011-08-16\n",
              "401105   2011-10-25\n",
              "401106   2011-08-16\n",
              "401107   2011-09-15\n",
              "401108   2011-08-16\n",
              "401109   2011-08-16\n",
              "401110   2011-09-15\n",
              "401111   2011-10-25\n",
              "401112   2011-10-25\n",
              "401113   2011-10-25\n",
              "401114   2011-11-15\n",
              "401115   2011-10-25\n",
              "401116   2011-10-25\n",
              "401117   2011-10-25\n",
              "401118   2011-10-25\n",
              "401119   2011-10-25\n",
              "401120   2011-11-02\n",
              "401121   2011-11-02\n",
              "401122   2011-11-02\n",
              "401123   2011-10-25\n",
              "401124   2011-10-25\n",
              "Name: saledate, Length: 401125, dtype: datetime64[ns]"
            ]
          },
          "metadata": {
            "tags": []
          },
          "execution_count": 19
        }
      ]
    },
    {
      "metadata": {
        "id": "Ht2VR6YVPNhZ",
        "colab_type": "code",
        "outputId": "8633a306-ccb3-4aa6-f5b2-50ad0584c3c7",
        "colab": {
          "base_uri": "https://localhost:8080/",
          "height": 118
        }
      },
      "cell_type": "code",
      "source": [
        "add_datepart(df_raw, 'saledate')\n",
        "df_raw.saleYear.head()"
      ],
      "execution_count": 20,
      "outputs": [
        {
          "output_type": "execute_result",
          "data": {
            "text/plain": [
              "0    2006\n",
              "1    2004\n",
              "2    2004\n",
              "3    2011\n",
              "4    2009\n",
              "Name: saleYear, dtype: int64"
            ]
          },
          "metadata": {
            "tags": []
          },
          "execution_count": 20
        }
      ]
    },
    {
      "metadata": {
        "id": "24N2ed_bPNiF",
        "colab_type": "text"
      },
      "cell_type": "markdown",
      "source": [
        "The categorical variables are currently stored as strings, which is inefficient, and doesn't provide the numeric coding required for a random forest. Therefore we call `train_cats` to convert strings to pandas categories."
      ]
    },
    {
      "metadata": {
        "id": "7FjOdfpdPNiQ",
        "colab_type": "code",
        "colab": {}
      },
      "cell_type": "code",
      "source": [
        "train_cats(df_raw)"
      ],
      "execution_count": 0,
      "outputs": []
    },
    {
      "metadata": {
        "id": "D9xQdrO4PNii",
        "colab_type": "text"
      },
      "cell_type": "markdown",
      "source": [
        "We can specify the order to use for categorical variables if we wish:"
      ]
    },
    {
      "metadata": {
        "id": "LfOVc0I0PNi3",
        "colab_type": "code",
        "outputId": "fb71dde0-ba9b-41aa-bf63-254823083b78",
        "colab": {
          "base_uri": "https://localhost:8080/",
          "height": 34
        }
      },
      "cell_type": "code",
      "source": [
        "df_raw.UsageBand.cat.categories"
      ],
      "execution_count": 22,
      "outputs": [
        {
          "output_type": "execute_result",
          "data": {
            "text/plain": [
              "Index(['High', 'Low', 'Medium'], dtype='object')"
            ]
          },
          "metadata": {
            "tags": []
          },
          "execution_count": 22
        }
      ]
    },
    {
      "metadata": {
        "id": "IwOl3iNcPNjM",
        "colab_type": "code",
        "colab": {}
      },
      "cell_type": "code",
      "source": [
        "df_raw.UsageBand.cat.set_categories(['High', 'Medium', 'Low'], ordered=True, inplace=True)"
      ],
      "execution_count": 0,
      "outputs": []
    },
    {
      "metadata": {
        "id": "M7zDryffPNjV",
        "colab_type": "text"
      },
      "cell_type": "markdown",
      "source": [
        "Normally, pandas will continue displaying the text categories, while treating them as numerical data internally. Optionally, we can replace the text categories with numbers, which will make this variable non-categorical, like so:."
      ]
    },
    {
      "metadata": {
        "id": "ZA68PsS0PNjW",
        "colab_type": "code",
        "colab": {}
      },
      "cell_type": "code",
      "source": [
        "df_raw.UsageBand = df_raw.UsageBand.cat.codes"
      ],
      "execution_count": 0,
      "outputs": []
    },
    {
      "metadata": {
        "id": "qud6j63fPNje",
        "colab_type": "text"
      },
      "cell_type": "markdown",
      "source": [
        "We're still not quite done - for instance we have lots of missing values, which we can't pass directly to a random forest."
      ]
    },
    {
      "metadata": {
        "id": "dJesAIHCPNjk",
        "colab_type": "code",
        "outputId": "3f861313-552a-48ab-d7dd-88d966b292a2",
        "colab": {
          "base_uri": "https://localhost:8080/",
          "height": 1126
        }
      },
      "cell_type": "code",
      "source": [
        "display_all(df_raw.isnull().sum().sort_index()/len(df_raw))"
      ],
      "execution_count": 25,
      "outputs": [
        {
          "output_type": "display_data",
          "data": {
            "text/plain": [
              "Backhoe_Mounting            0.803872\n",
              "Blade_Extension             0.937129\n",
              "Blade_Type                  0.800977\n",
              "Blade_Width                 0.937129\n",
              "Coupler                     0.466620\n",
              "Coupler_System              0.891660\n",
              "Differential_Type           0.826959\n",
              "Drive_System                0.739829\n",
              "Enclosure                   0.000810\n",
              "Enclosure_Type              0.937129\n",
              "Engine_Horsepower           0.937129\n",
              "Forks                       0.521154\n",
              "Grouser_Tracks              0.891899\n",
              "Grouser_Type                0.752813\n",
              "Hydraulics                  0.200823\n",
              "Hydraulics_Flow             0.891899\n",
              "MachineHoursCurrentMeter    0.644089\n",
              "MachineID                   0.000000\n",
              "ModelID                     0.000000\n",
              "Pad_Type                    0.802720\n",
              "Pattern_Changer             0.752651\n",
              "ProductGroup                0.000000\n",
              "ProductGroupDesc            0.000000\n",
              "ProductSize                 0.525460\n",
              "Pushblock                   0.937129\n",
              "Ride_Control                0.629527\n",
              "Ripper                      0.740388\n",
              "SalePrice                   0.000000\n",
              "SalesID                     0.000000\n",
              "Scarifier                   0.937102\n",
              "Steering_Controls           0.827064\n",
              "Stick                       0.802720\n",
              "Stick_Length                0.752651\n",
              "Thumb                       0.752476\n",
              "Tip_Control                 0.937129\n",
              "Tire_Size                   0.763869\n",
              "Track_Type                  0.752813\n",
              "Transmission                0.543210\n",
              "Travel_Controls             0.800975\n",
              "Turbocharged                0.802720\n",
              "Undercarriage_Pad_Width     0.751020\n",
              "UsageBand                   0.000000\n",
              "YearMade                    0.000000\n",
              "auctioneerID                0.050199\n",
              "datasource                  0.000000\n",
              "fiBaseModel                 0.000000\n",
              "fiModelDesc                 0.000000\n",
              "fiModelDescriptor           0.820707\n",
              "fiModelSeries               0.858129\n",
              "fiProductClassDesc          0.000000\n",
              "fiSecondaryDesc             0.342016\n",
              "saleDay                     0.000000\n",
              "saleDayofweek               0.000000\n",
              "saleDayofyear               0.000000\n",
              "saleElapsed                 0.000000\n",
              "saleIs_month_end            0.000000\n",
              "saleIs_month_start          0.000000\n",
              "saleIs_quarter_end          0.000000\n",
              "saleIs_quarter_start        0.000000\n",
              "saleIs_year_end             0.000000\n",
              "saleIs_year_start           0.000000\n",
              "saleMonth                   0.000000\n",
              "saleWeek                    0.000000\n",
              "saleYear                    0.000000\n",
              "state                       0.000000\n",
              "dtype: float64"
            ]
          },
          "metadata": {
            "tags": []
          }
        }
      ]
    },
    {
      "metadata": {
        "id": "kp9CzoIIPNjz",
        "colab_type": "text"
      },
      "cell_type": "markdown",
      "source": [
        "But let's save this file for now, since it's already in format can we be stored and accessed efficiently."
      ]
    },
    {
      "metadata": {
        "id": "PjVuBZ2GPNj4",
        "colab_type": "code",
        "colab": {}
      },
      "cell_type": "code",
      "source": [
        "os.makedirs('tmp', exist_ok=True)\n",
        "df_raw.to_feather('tmp/bulldozers-raw')"
      ],
      "execution_count": 0,
      "outputs": []
    },
    {
      "metadata": {
        "id": "rL9VfMc00mL4",
        "colab_type": "code",
        "colab": {
          "base_uri": "https://localhost:8080/",
          "height": 67
        },
        "outputId": "e94b1ad5-948e-4e4d-d486-f29abcfd3c14"
      },
      "cell_type": "code",
      "source": [
        "!{sys.executable} -m pip install pyarrow==0.10.0"
      ],
      "execution_count": 27,
      "outputs": [
        {
          "output_type": "stream",
          "text": [
            "Requirement already satisfied: pyarrow==0.10.0 in /usr/local/lib/python3.6/dist-packages (0.10.0)\n",
            "Requirement already satisfied: numpy>=1.10 in /usr/local/lib/python3.6/dist-packages (from pyarrow==0.10.0) (1.16.1)\n",
            "Requirement already satisfied: six>=1.0.0 in /usr/local/lib/python3.6/dist-packages (from pyarrow==0.10.0) (1.11.0)\n"
          ],
          "name": "stdout"
        }
      ]
    },
    {
      "metadata": {
        "id": "jd9vCCwpPNkB",
        "colab_type": "text"
      },
      "cell_type": "markdown",
      "source": [
        "### Pre-processing"
      ]
    },
    {
      "metadata": {
        "id": "Xi5L_dffPNkE",
        "colab_type": "text"
      },
      "cell_type": "markdown",
      "source": [
        "In the future we can simply read it from this fast format."
      ]
    },
    {
      "metadata": {
        "id": "95V-M_fJ1Uuk",
        "colab_type": "code",
        "colab": {
          "base_uri": "https://localhost:8080/",
          "height": 121
        },
        "outputId": "88b829b2-d88c-43af-f4f5-8495ba45d597"
      },
      "cell_type": "code",
      "source": [
        "!pip install --upgrade pandas"
      ],
      "execution_count": 28,
      "outputs": [
        {
          "output_type": "stream",
          "text": [
            "Requirement already up-to-date: pandas in /usr/local/lib/python3.6/dist-packages (0.24.1)\n",
            "Requirement already satisfied, skipping upgrade: python-dateutil>=2.5.0 in /usr/local/lib/python3.6/dist-packages (from pandas) (2.5.3)\n",
            "Requirement already satisfied, skipping upgrade: pytz>=2011k in /usr/local/lib/python3.6/dist-packages (from pandas) (2018.9)\n",
            "Requirement already satisfied, skipping upgrade: numpy>=1.12.0 in /usr/local/lib/python3.6/dist-packages (from pandas) (1.16.1)\n",
            "Requirement already satisfied, skipping upgrade: six>=1.5 in /usr/local/lib/python3.6/dist-packages (from python-dateutil>=2.5.0->pandas) (1.11.0)\n"
          ],
          "name": "stdout"
        }
      ]
    },
    {
      "metadata": {
        "id": "BLu6PccfPNkG",
        "colab_type": "code",
        "colab": {
          "base_uri": "https://localhost:8080/",
          "height": 104
        },
        "outputId": "37ca2368-8fb9-4f2f-9df9-e22ad025546e"
      },
      "cell_type": "code",
      "source": [
        "df_raw = pd.read_feather('tmp/bulldozers-raw')"
      ],
      "execution_count": 29,
      "outputs": [
        {
          "output_type": "stream",
          "text": [
            "/usr/local/lib/python3.6/dist-packages/pandas/io/feather_format.py:124: FutureWarning: `nthreads` argument is deprecated, pass `use_threads` instead\n",
            "  nthreads=int_use_threads)\n",
            "/usr/local/lib/python3.6/dist-packages/pyarrow/pandas_compat.py:751: FutureWarning: .labels was deprecated in version 0.24.0. Use .codes instead.\n",
            "  labels, = index.labels\n"
          ],
          "name": "stderr"
        }
      ]
    },
    {
      "metadata": {
        "id": "Qo5Yp7aCPNkO",
        "colab_type": "text"
      },
      "cell_type": "markdown",
      "source": [
        "We'll replace categories with their numeric codes, handle missing continuous values, and split the dependent variable into a separate variable."
      ]
    },
    {
      "metadata": {
        "id": "vku39X6P1IWl",
        "colab_type": "code",
        "colab": {
          "base_uri": "https://localhost:8080/",
          "height": 34
        },
        "outputId": "8b936f0e-cbac-410c-e18c-e67c774d7ef8"
      },
      "cell_type": "code",
      "source": [
        "pd.__version__"
      ],
      "execution_count": 30,
      "outputs": [
        {
          "output_type": "execute_result",
          "data": {
            "text/plain": [
              "'0.24.1'"
            ]
          },
          "metadata": {
            "tags": []
          },
          "execution_count": 30
        }
      ]
    },
    {
      "metadata": {
        "id": "7L_QWcmIPNkQ",
        "colab_type": "code",
        "colab": {}
      },
      "cell_type": "code",
      "source": [
        "df, y, nas = proc_df(df_raw, 'SalePrice')"
      ],
      "execution_count": 0,
      "outputs": []
    },
    {
      "metadata": {
        "id": "4yzGrKwtPNkZ",
        "colab_type": "text"
      },
      "cell_type": "markdown",
      "source": [
        "We now have something we can pass to a random forest!"
      ]
    },
    {
      "metadata": {
        "id": "AauD4t21PNkc",
        "colab_type": "code",
        "outputId": "b1dab71d-b2a0-4d86-d533-9285e3a8a135",
        "colab": {
          "base_uri": "https://localhost:8080/",
          "height": 87
        }
      },
      "cell_type": "code",
      "source": [
        "m = RandomForestRegressor(n_jobs=-1)\n",
        "m.fit(df, y)\n",
        "m.score(df,y)"
      ],
      "execution_count": 32,
      "outputs": [
        {
          "output_type": "stream",
          "text": [
            "/usr/local/lib/python3.6/dist-packages/sklearn/ensemble/forest.py:246: FutureWarning: The default value of n_estimators will change from 10 in version 0.20 to 100 in 0.22.\n",
            "  \"10 in version 0.20 to 100 in 0.22.\", FutureWarning)\n"
          ],
          "name": "stderr"
        },
        {
          "output_type": "execute_result",
          "data": {
            "text/plain": [
              "0.9830580215280568"
            ]
          },
          "metadata": {
            "tags": []
          },
          "execution_count": 32
        }
      ]
    },
    {
      "metadata": {
        "id": "UIvI2A-nPNkt",
        "colab_type": "text"
      },
      "cell_type": "markdown",
      "source": [
        "In statistics, the coefficient of determination, denoted R2 or r2 and pronounced \"R squared\", is the proportion of the variance in the dependent variable that is predictable from the independent variable(s). https://en.wikipedia.org/wiki/Coefficient_of_determination"
      ]
    },
    {
      "metadata": {
        "id": "qTYI-sSiPNkw",
        "colab_type": "text"
      },
      "cell_type": "markdown",
      "source": [
        "Wow, an r^2 of 0.98 - that's great, right? Well, perhaps not...\n",
        "\n",
        "Possibly **the most important idea** in machine learning is that of having separate training & validation data sets. As motivation, suppose you don't divide up your data, but instead use all of it.  And suppose you have lots of parameters:\n",
        "\n",
        "<img src=\"images/overfitting2.png\" alt=\"\" style=\"width: 70%\"/>\n",
        "<center>\n",
        "[Underfitting and Overfitting](https://datascience.stackexchange.com/questions/361/when-is-a-model-underfitted)\n",
        "</center>\n",
        "\n",
        "The error for the pictured data points is lowest for the model on the far right (the blue curve passes through the red points almost perfectly), yet it's not the best choice.  Why is that?  If you were to gather some new data points, they most likely would not be on that curve in the graph on the right, but would be closer to the curve in the middle graph.\n",
        "\n",
        "This illustrates how using all our data can lead to **overfitting**. A validation set helps diagnose this problem."
      ]
    },
    {
      "metadata": {
        "id": "MjSiGDykPNk3",
        "colab_type": "code",
        "outputId": "96e0f15e-0a09-4f64-c191-d60ca822dfdc",
        "colab": {
          "base_uri": "https://localhost:8080/",
          "height": 34
        }
      },
      "cell_type": "code",
      "source": [
        "def split_vals(a,n): return a[:n].copy(), a[n:].copy()\n",
        "\n",
        "n_valid = 12000  # same as Kaggle's test set size\n",
        "n_trn = len(df)-n_valid\n",
        "raw_train, raw_valid = split_vals(df_raw, n_trn)\n",
        "X_train, X_valid = split_vals(df, n_trn)\n",
        "y_train, y_valid = split_vals(y, n_trn)\n",
        "\n",
        "X_train.shape, y_train.shape, X_valid.shape"
      ],
      "execution_count": 33,
      "outputs": [
        {
          "output_type": "execute_result",
          "data": {
            "text/plain": [
              "((389125, 66), (389125,), (12000, 66))"
            ]
          },
          "metadata": {
            "tags": []
          },
          "execution_count": 33
        }
      ]
    },
    {
      "metadata": {
        "id": "m9YSCc5KPNlH",
        "colab_type": "text"
      },
      "cell_type": "markdown",
      "source": [
        "# Random Forests"
      ]
    },
    {
      "metadata": {
        "id": "jkK7hM2OPNlM",
        "colab_type": "text"
      },
      "cell_type": "markdown",
      "source": [
        "## Base model"
      ]
    },
    {
      "metadata": {
        "id": "Lw4D-PEWPNlN",
        "colab_type": "text"
      },
      "cell_type": "markdown",
      "source": [
        "Let's try our model again, this time with separate training and validation sets."
      ]
    },
    {
      "metadata": {
        "id": "fD_jM9A4PNlN",
        "colab_type": "code",
        "colab": {}
      },
      "cell_type": "code",
      "source": [
        "def rmse(x,y): return math.sqrt(((x-y)**2).mean())\n",
        "\n",
        "def print_score(m):\n",
        "    res = [rmse(m.predict(X_train), y_train), rmse(m.predict(X_valid), y_valid),\n",
        "                m.score(X_train, y_train), m.score(X_valid, y_valid)]\n",
        "    if hasattr(m, 'oob_score_'): res.append(m.oob_score_)\n",
        "    print(res)"
      ],
      "execution_count": 0,
      "outputs": []
    },
    {
      "metadata": {
        "id": "_g0v9FroPNlR",
        "colab_type": "code",
        "outputId": "ff52f2d5-6501-47bf-acd1-2ac4ca8a829a",
        "colab": {
          "base_uri": "https://localhost:8080/",
          "height": 121
        }
      },
      "cell_type": "code",
      "source": [
        "m = RandomForestRegressor(n_jobs=-1)\n",
        "%time m.fit(X_train, y_train)\n",
        "print_score(m)"
      ],
      "execution_count": 35,
      "outputs": [
        {
          "output_type": "stream",
          "text": [
            "/usr/local/lib/python3.6/dist-packages/sklearn/ensemble/forest.py:246: FutureWarning: The default value of n_estimators will change from 10 in version 0.20 to 100 in 0.22.\n",
            "  \"10 in version 0.20 to 100 in 0.22.\", FutureWarning)\n"
          ],
          "name": "stderr"
        },
        {
          "output_type": "stream",
          "text": [
            "CPU times: user 1min 41s, sys: 108 ms, total: 1min 41s\n",
            "Wall time: 52.1 s\n",
            "[0.09032021122483698, 0.2488241919317027, 0.982950772134079, 0.889431051709412]\n"
          ],
          "name": "stdout"
        }
      ]
    },
    {
      "metadata": {
        "id": "WmA0K3brPNlt",
        "colab_type": "text"
      },
      "cell_type": "markdown",
      "source": [
        "An r^2 in the high-80's isn't bad at all (and the RMSLE puts us around rank 100 of 470 on the Kaggle leaderboard), but we can see from the validation set score that we're over-fitting badly. To understand this issue, let's simplify things down to a single small tree."
      ]
    },
    {
      "metadata": {
        "id": "y8EIuc62PNlw",
        "colab_type": "text"
      },
      "cell_type": "markdown",
      "source": [
        "## Speeding things up"
      ]
    },
    {
      "metadata": {
        "id": "ZygXjgYiPNlw",
        "colab_type": "code",
        "colab": {}
      },
      "cell_type": "code",
      "source": [
        "df_trn, y_trn, nas = proc_df(df_raw, 'SalePrice', subset=30000, na_dict=nas)\n",
        "X_train, _ = split_vals(df_trn, 20000)\n",
        "y_train, _ = split_vals(y_trn, 20000)"
      ],
      "execution_count": 0,
      "outputs": []
    },
    {
      "metadata": {
        "id": "h_X0xDcXPNl7",
        "colab_type": "code",
        "outputId": "77da0728-8cb6-428a-ab82-a6a7e09a8c64",
        "colab": {
          "base_uri": "https://localhost:8080/",
          "height": 121
        }
      },
      "cell_type": "code",
      "source": [
        "m = RandomForestRegressor(n_jobs=-1)\n",
        "%time m.fit(X_train, y_train)\n",
        "print_score(m)"
      ],
      "execution_count": 37,
      "outputs": [
        {
          "output_type": "stream",
          "text": [
            "/usr/local/lib/python3.6/dist-packages/sklearn/ensemble/forest.py:246: FutureWarning: The default value of n_estimators will change from 10 in version 0.20 to 100 in 0.22.\n",
            "  \"10 in version 0.20 to 100 in 0.22.\", FutureWarning)\n"
          ],
          "name": "stderr"
        },
        {
          "output_type": "stream",
          "text": [
            "CPU times: user 3.69 s, sys: 7.04 ms, total: 3.69 s\n",
            "Wall time: 1.98 s\n",
            "[0.11222988721935673, 0.34824752761525435, 0.9726488294411056, 0.7834171533006193]\n"
          ],
          "name": "stdout"
        }
      ]
    },
    {
      "metadata": {
        "id": "wCK4xiPYPNmO",
        "colab_type": "text"
      },
      "cell_type": "markdown",
      "source": [
        "## Single tree"
      ]
    },
    {
      "metadata": {
        "id": "AoHGd8zYPNmQ",
        "colab_type": "code",
        "outputId": "9d864089-6039-4a96-bf97-26ca0592730c",
        "colab": {
          "base_uri": "https://localhost:8080/",
          "height": 34
        }
      },
      "cell_type": "code",
      "source": [
        "m = RandomForestRegressor(n_estimators=1, max_depth=3, bootstrap=False, n_jobs=-1)\n",
        "m.fit(X_train, y_train)\n",
        "print_score(m)"
      ],
      "execution_count": 38,
      "outputs": [
        {
          "output_type": "stream",
          "text": [
            "[0.5239080533042988, 0.5827892267006178, 0.40396877346990934, 0.39344385933133874]\n"
          ],
          "name": "stdout"
        }
      ]
    },
    {
      "metadata": {
        "id": "ziVl7GDkPNmZ",
        "colab_type": "code",
        "outputId": "42fbdf20-7eb3-4ad5-8b44-480088bf1c61",
        "colab": {
          "base_uri": "https://localhost:8080/",
          "height": 600
        }
      },
      "cell_type": "code",
      "source": [
        "draw_tree(m.estimators_[0], df_trn, precision=3)"
      ],
      "execution_count": 39,
      "outputs": [
        {
          "output_type": "display_data",
          "data": {
            "text/plain": [
              "<graphviz.files.Source at 0x7fa9e48d7518>"
            ],
            "image/svg+xml": "<?xml version=\"1.0\" encoding=\"UTF-8\" standalone=\"no\"?>\n<!DOCTYPE svg PUBLIC \"-//W3C//DTD SVG 1.1//EN\"\n \"http://www.w3.org/Graphics/SVG/1.1/DTD/svg11.dtd\">\n<!-- Generated by graphviz version 2.40.1 (20161225.0304)\n -->\n<!-- Title: Tree Pages: 1 -->\n<svg width=\"720pt\" height=\"434pt\"\n viewBox=\"0.00 0.00 720.00 434.49\" xmlns=\"http://www.w3.org/2000/svg\" xmlns:xlink=\"http://www.w3.org/1999/xlink\">\n<g id=\"graph0\" class=\"graph\" transform=\"scale(.7787 .7787) rotate(0) translate(4 554)\">\n<title>Tree</title>\n<polygon fill=\"#ffffff\" stroke=\"transparent\" points=\"-4,4 -4,-554 920.6667,-554 920.6667,4 -4,4\"/>\n<!-- 0 -->\n<g id=\"node1\" class=\"node\">\n<title>0</title>\n<polygon fill=\"#e58139\" fill-opacity=\"0.733333\" stroke=\"#000000\" points=\"174.6667,-336.5 28.6667,-336.5 28.6667,-268.5 174.6667,-268.5 174.6667,-336.5\"/>\n<text text-anchor=\"start\" x=\"36.6667\" y=\"-321.3\" font-family=\"Times,serif\" font-size=\"14.00\" fill=\"#000000\">Coupler_System ≤ 0.5</text>\n<text text-anchor=\"start\" x=\"65.1667\" y=\"-306.3\" font-family=\"Times,serif\" font-size=\"14.00\" fill=\"#000000\">mse = 0.461</text>\n<text text-anchor=\"start\" x=\"52.1667\" y=\"-291.3\" font-family=\"Times,serif\" font-size=\"14.00\" fill=\"#000000\">samples = 20000</text>\n<text text-anchor=\"start\" x=\"57.6667\" y=\"-276.3\" font-family=\"Times,serif\" font-size=\"14.00\" fill=\"#000000\">value = 10.117</text>\n</g>\n<!-- 1 -->\n<g id=\"node2\" class=\"node\">\n<title>1</title>\n<polygon fill=\"#e58139\" fill-opacity=\"0.788235\" stroke=\"#000000\" points=\"409.1667,-372.5 278.1667,-372.5 278.1667,-304.5 409.1667,-304.5 409.1667,-372.5\"/>\n<text text-anchor=\"start\" x=\"286.1667\" y=\"-357.3\" font-family=\"Times,serif\" font-size=\"14.00\" fill=\"#000000\">YearMade ≤ 1986.5</text>\n<text text-anchor=\"start\" x=\"307.1667\" y=\"-342.3\" font-family=\"Times,serif\" font-size=\"14.00\" fill=\"#000000\">mse = 0.403</text>\n<text text-anchor=\"start\" x=\"294.1667\" y=\"-327.3\" font-family=\"Times,serif\" font-size=\"14.00\" fill=\"#000000\">samples = 18230</text>\n<text text-anchor=\"start\" x=\"299.6667\" y=\"-312.3\" font-family=\"Times,serif\" font-size=\"14.00\" fill=\"#000000\">value = 10.206</text>\n</g>\n<!-- 0&#45;&gt;1 -->\n<g id=\"edge1\" class=\"edge\">\n<title>0&#45;&gt;1</title>\n<path fill=\"none\" stroke=\"#000000\" d=\"M174.9314,-313.3989C204.4281,-317.7868 238.4321,-322.8453 268.1515,-327.2663\"/>\n<polygon fill=\"#000000\" stroke=\"#000000\" points=\"267.6472,-330.7297 278.0533,-328.7393 268.6772,-323.8059 267.6472,-330.7297\"/>\n<text text-anchor=\"middle\" x=\"257.967\" y=\"-339.9235\" font-family=\"Times,serif\" font-size=\"14.00\" fill=\"#000000\">True</text>\n</g>\n<!-- 8 -->\n<g id=\"node9\" class=\"node\">\n<title>8</title>\n<polygon fill=\"#e58139\" fill-opacity=\"0.133333\" stroke=\"#000000\" points=\"409.1667,-245.5 278.1667,-245.5 278.1667,-177.5 409.1667,-177.5 409.1667,-245.5\"/>\n<text text-anchor=\"start\" x=\"286.1667\" y=\"-230.3\" font-family=\"Times,serif\" font-size=\"14.00\" fill=\"#000000\">YearMade ≤ 1998.5</text>\n<text text-anchor=\"start\" x=\"307.6667\" y=\"-215.3\" font-family=\"Times,serif\" font-size=\"14.00\" fill=\"#000000\">mse = 0.118</text>\n<text text-anchor=\"start\" x=\"298.1667\" y=\"-200.3\" font-family=\"Times,serif\" font-size=\"14.00\" fill=\"#000000\">samples = 1770</text>\n<text text-anchor=\"start\" x=\"303.1667\" y=\"-185.3\" font-family=\"Times,serif\" font-size=\"14.00\" fill=\"#000000\">value = 9.195</text>\n</g>\n<!-- 0&#45;&gt;8 -->\n<g id=\"edge8\" class=\"edge\">\n<title>0&#45;&gt;8</title>\n<path fill=\"none\" stroke=\"#000000\" d=\"M174.9314,-274.95C204.5563,-263.8101 238.7278,-250.9605 268.5389,-239.7505\"/>\n<polygon fill=\"#000000\" stroke=\"#000000\" points=\"269.9251,-242.9686 278.0533,-236.1728 267.4613,-236.4165 269.9251,-242.9686\"/>\n<text text-anchor=\"middle\" x=\"255.2848\" y=\"-222.1483\" font-family=\"Times,serif\" font-size=\"14.00\" fill=\"#000000\">False</text>\n</g>\n<!-- 2 -->\n<g id=\"node3\" class=\"node\">\n<title>2</title>\n<polygon fill=\"#e58139\" fill-opacity=\"0.592157\" stroke=\"#000000\" points=\"664.1667,-486.5 539.1667,-486.5 539.1667,-418.5 664.1667,-418.5 664.1667,-486.5\"/>\n<text text-anchor=\"start\" x=\"547.1667\" y=\"-471.3\" font-family=\"Times,serif\" font-size=\"14.00\" fill=\"#000000\">ModelID ≤ 4157.5</text>\n<text text-anchor=\"start\" x=\"565.1667\" y=\"-456.3\" font-family=\"Times,serif\" font-size=\"14.00\" fill=\"#000000\">mse = 0.337</text>\n<text text-anchor=\"start\" x=\"556.1667\" y=\"-441.3\" font-family=\"Times,serif\" font-size=\"14.00\" fill=\"#000000\">samples = 6211</text>\n<text text-anchor=\"start\" x=\"568.6667\" y=\"-426.3\" font-family=\"Times,serif\" font-size=\"14.00\" fill=\"#000000\">value = 9.9</text>\n</g>\n<!-- 1&#45;&gt;2 -->\n<g id=\"edge2\" class=\"edge\">\n<title>1&#45;&gt;2</title>\n<path fill=\"none\" stroke=\"#000000\" d=\"M409.4385,-367.562C446.186,-383.7993 492.028,-404.055 529.7273,-420.7128\"/>\n<polygon fill=\"#000000\" stroke=\"#000000\" points=\"528.5644,-424.0254 539.1259,-424.8657 531.3936,-417.6226 528.5644,-424.0254\"/>\n</g>\n<!-- 5 -->\n<g id=\"node6\" class=\"node\">\n<title>5</title>\n<polygon fill=\"#e58139\" fill-opacity=\"0.894118\" stroke=\"#000000\" points=\"682.1667,-372.5 521.1667,-372.5 521.1667,-304.5 682.1667,-304.5 682.1667,-372.5\"/>\n<text text-anchor=\"start\" x=\"529.1667\" y=\"-357.3\" font-family=\"Times,serif\" font-size=\"14.00\" fill=\"#000000\">fiProductClassDesc ≤ 7.5</text>\n<text text-anchor=\"start\" x=\"565.1667\" y=\"-342.3\" font-family=\"Times,serif\" font-size=\"14.00\" fill=\"#000000\">mse = 0.364</text>\n<text text-anchor=\"start\" x=\"552.1667\" y=\"-327.3\" font-family=\"Times,serif\" font-size=\"14.00\" fill=\"#000000\">samples = 12019</text>\n<text text-anchor=\"start\" x=\"557.6667\" y=\"-312.3\" font-family=\"Times,serif\" font-size=\"14.00\" fill=\"#000000\">value = 10.365</text>\n</g>\n<!-- 1&#45;&gt;5 -->\n<g id=\"edge5\" class=\"edge\">\n<title>1&#45;&gt;5</title>\n<path fill=\"none\" stroke=\"#000000\" d=\"M409.4385,-338.5C440.1513,-338.5 477.2167,-338.5 510.5716,-338.5\"/>\n<polygon fill=\"#000000\" stroke=\"#000000\" points=\"510.7929,-342.0001 520.7928,-338.5 510.7928,-335.0001 510.7929,-342.0001\"/>\n</g>\n<!-- 3 -->\n<g id=\"node4\" class=\"node\">\n<title>3</title>\n<polygon fill=\"#e58139\" fill-opacity=\"0.737255\" stroke=\"#000000\" points=\"896.1667,-550 789.1667,-550 789.1667,-497 896.1667,-497 896.1667,-550\"/>\n<text text-anchor=\"start\" x=\"806.1667\" y=\"-534.8\" font-family=\"Times,serif\" font-size=\"14.00\" fill=\"#000000\">mse = 0.361</text>\n<text text-anchor=\"start\" x=\"797.1667\" y=\"-519.8\" font-family=\"Times,serif\" font-size=\"14.00\" fill=\"#000000\">samples = 2995</text>\n<text text-anchor=\"start\" x=\"798.6667\" y=\"-504.8\" font-family=\"Times,serif\" font-size=\"14.00\" fill=\"#000000\">value = 10.128</text>\n</g>\n<!-- 2&#45;&gt;3 -->\n<g id=\"edge3\" class=\"edge\">\n<title>2&#45;&gt;3</title>\n<path fill=\"none\" stroke=\"#000000\" d=\"M664.3575,-470.9691C699.6699,-481.3723 743.6627,-494.3328 779.1148,-504.7773\"/>\n<polygon fill=\"#000000\" stroke=\"#000000\" points=\"778.2918,-508.1835 788.8733,-507.6522 780.2701,-501.4688 778.2918,-508.1835\"/>\n</g>\n<!-- 4 -->\n<g id=\"node5\" class=\"node\">\n<title>4</title>\n<polygon fill=\"#e58139\" fill-opacity=\"0.454902\" stroke=\"#000000\" points=\"896.1667,-479 789.1667,-479 789.1667,-426 896.1667,-426 896.1667,-479\"/>\n<text text-anchor=\"start\" x=\"806.1667\" y=\"-463.8\" font-family=\"Times,serif\" font-size=\"14.00\" fill=\"#000000\">mse = 0.222</text>\n<text text-anchor=\"start\" x=\"797.1667\" y=\"-448.8\" font-family=\"Times,serif\" font-size=\"14.00\" fill=\"#000000\">samples = 3216</text>\n<text text-anchor=\"start\" x=\"802.1667\" y=\"-433.8\" font-family=\"Times,serif\" font-size=\"14.00\" fill=\"#000000\">value = 9.687</text>\n</g>\n<!-- 2&#45;&gt;4 -->\n<g id=\"edge4\" class=\"edge\">\n<title>2&#45;&gt;4</title>\n<path fill=\"none\" stroke=\"#000000\" d=\"M664.3575,-452.5C699.519,-452.5 743.2868,-452.5 778.6598,-452.5\"/>\n<polygon fill=\"#000000\" stroke=\"#000000\" points=\"778.8734,-456.0001 788.8733,-452.5 778.8733,-449.0001 778.8734,-456.0001\"/>\n</g>\n<!-- 6 -->\n<g id=\"node7\" class=\"node\">\n<title>6</title>\n<polygon fill=\"#e58139\" fill-opacity=\"0.627451\" stroke=\"#000000\" points=\"896.1667,-408 789.1667,-408 789.1667,-355 896.1667,-355 896.1667,-408\"/>\n<text text-anchor=\"start\" x=\"806.6667\" y=\"-392.8\" font-family=\"Times,serif\" font-size=\"14.00\" fill=\"#000000\">mse = 0.118</text>\n<text text-anchor=\"start\" x=\"797.1667\" y=\"-377.8\" font-family=\"Times,serif\" font-size=\"14.00\" fill=\"#000000\">samples = 3476</text>\n<text text-anchor=\"start\" x=\"802.1667\" y=\"-362.8\" font-family=\"Times,serif\" font-size=\"14.00\" fill=\"#000000\">value = 9.956</text>\n</g>\n<!-- 5&#45;&gt;6 -->\n<g id=\"edge6\" class=\"edge\">\n<title>5&#45;&gt;6</title>\n<path fill=\"none\" stroke=\"#000000\" d=\"M682.2512,-352.8782C713.7093,-358.491 749.2589,-364.8339 778.8835,-370.1196\"/>\n<polygon fill=\"#000000\" stroke=\"#000000\" points=\"778.6392,-373.6312 789.0985,-371.9422 779.8688,-366.74 778.6392,-373.6312\"/>\n</g>\n<!-- 7 -->\n<g id=\"node8\" class=\"node\">\n<title>7</title>\n<polygon fill=\"#e58139\" stroke=\"#000000\" points=\"896.1667,-337 789.1667,-337 789.1667,-284 896.1667,-284 896.1667,-337\"/>\n<text text-anchor=\"start\" x=\"806.1667\" y=\"-321.8\" font-family=\"Times,serif\" font-size=\"14.00\" fill=\"#000000\">mse = 0.368</text>\n<text text-anchor=\"start\" x=\"797.1667\" y=\"-306.8\" font-family=\"Times,serif\" font-size=\"14.00\" fill=\"#000000\">samples = 8543</text>\n<text text-anchor=\"start\" x=\"798.6667\" y=\"-291.8\" font-family=\"Times,serif\" font-size=\"14.00\" fill=\"#000000\">value = 10.531</text>\n</g>\n<!-- 5&#45;&gt;7 -->\n<g id=\"edge7\" class=\"edge\">\n<title>5&#45;&gt;7</title>\n<path fill=\"none\" stroke=\"#000000\" d=\"M682.2512,-329.1375C713.7093,-325.4826 749.2589,-321.3524 778.8835,-317.9105\"/>\n<polygon fill=\"#000000\" stroke=\"#000000\" points=\"779.5693,-321.3544 789.0985,-316.7237 778.7614,-314.4012 779.5693,-321.3544\"/>\n</g>\n<!-- 9 -->\n<g id=\"node10\" class=\"node\">\n<title>9</title>\n<polygon fill=\"#e58139\" fill-opacity=\"0.035294\" stroke=\"#000000\" points=\"686.1667,-245.5 517.1667,-245.5 517.1667,-177.5 686.1667,-177.5 686.1667,-245.5\"/>\n<text text-anchor=\"start\" x=\"525.1667\" y=\"-230.3\" font-family=\"Times,serif\" font-size=\"14.00\" fill=\"#000000\">fiProductClassDesc ≤ 40.5</text>\n<text text-anchor=\"start\" x=\"565.1667\" y=\"-215.3\" font-family=\"Times,serif\" font-size=\"14.00\" fill=\"#000000\">mse = 0.091</text>\n<text text-anchor=\"start\" x=\"559.6667\" y=\"-200.3\" font-family=\"Times,serif\" font-size=\"14.00\" fill=\"#000000\">samples = 986</text>\n<text text-anchor=\"start\" x=\"561.1667\" y=\"-185.3\" font-family=\"Times,serif\" font-size=\"14.00\" fill=\"#000000\">value = 9.042</text>\n</g>\n<!-- 8&#45;&gt;9 -->\n<g id=\"edge9\" class=\"edge\">\n<title>8&#45;&gt;9</title>\n<path fill=\"none\" stroke=\"#000000\" d=\"M409.4385,-211.5C438.9412,-211.5 474.3057,-211.5 506.6123,-211.5\"/>\n<polygon fill=\"#000000\" stroke=\"#000000\" points=\"506.9827,-215.0001 516.9827,-211.5 506.9826,-208.0001 506.9827,-215.0001\"/>\n</g>\n<!-- 12 -->\n<g id=\"node13\" class=\"node\">\n<title>12</title>\n<polygon fill=\"#e58139\" fill-opacity=\"0.258824\" stroke=\"#000000\" points=\"671.6667,-131.5 531.6667,-131.5 531.6667,-63.5 671.6667,-63.5 671.6667,-131.5\"/>\n<text text-anchor=\"start\" x=\"539.6667\" y=\"-116.3\" font-family=\"Times,serif\" font-size=\"14.00\" fill=\"#000000\">SalesID ≤ 1570280.5</text>\n<text text-anchor=\"start\" x=\"565.1667\" y=\"-101.3\" font-family=\"Times,serif\" font-size=\"14.00\" fill=\"#000000\">mse = 0.087</text>\n<text text-anchor=\"start\" x=\"559.6667\" y=\"-86.3\" font-family=\"Times,serif\" font-size=\"14.00\" fill=\"#000000\">samples = 784</text>\n<text text-anchor=\"start\" x=\"561.1667\" y=\"-71.3\" font-family=\"Times,serif\" font-size=\"14.00\" fill=\"#000000\">value = 9.387</text>\n</g>\n<!-- 8&#45;&gt;12 -->\n<g id=\"edge12\" class=\"edge\">\n<title>8&#45;&gt;12</title>\n<path fill=\"none\" stroke=\"#000000\" d=\"M409.4385,-182.438C443.7005,-167.299 485.8683,-148.6667 521.9711,-132.7143\"/>\n<polygon fill=\"#000000\" stroke=\"#000000\" points=\"523.7622,-135.7494 531.4945,-128.5063 520.9331,-129.3466 523.7622,-135.7494\"/>\n</g>\n<!-- 10 -->\n<g id=\"node11\" class=\"node\">\n<title>10</title>\n<polygon fill=\"transparent\" stroke=\"#000000\" points=\"892.6667,-266 792.6667,-266 792.6667,-213 892.6667,-213 892.6667,-266\"/>\n<text text-anchor=\"start\" x=\"806.1667\" y=\"-250.8\" font-family=\"Times,serif\" font-size=\"14.00\" fill=\"#000000\">mse = 0.073</text>\n<text text-anchor=\"start\" x=\"800.6667\" y=\"-235.8\" font-family=\"Times,serif\" font-size=\"14.00\" fill=\"#000000\">samples = 746</text>\n<text text-anchor=\"start\" x=\"802.1667\" y=\"-220.8\" font-family=\"Times,serif\" font-size=\"14.00\" fill=\"#000000\">value = 8.988</text>\n</g>\n<!-- 9&#45;&gt;10 -->\n<g id=\"edge10\" class=\"edge\">\n<title>9&#45;&gt;10</title>\n<path fill=\"none\" stroke=\"#000000\" d=\"M686.2954,-221.3324C718.0822,-225.0255 753.5334,-229.1443 782.6337,-232.5252\"/>\n<polygon fill=\"#000000\" stroke=\"#000000\" points=\"782.3085,-236.0109 792.6456,-233.6884 783.1164,-229.0577 782.3085,-236.0109\"/>\n</g>\n<!-- 11 -->\n<g id=\"node12\" class=\"node\">\n<title>11</title>\n<polygon fill=\"#e58139\" fill-opacity=\"0.145098\" stroke=\"#000000\" points=\"892.6667,-195 792.6667,-195 792.6667,-142 892.6667,-142 892.6667,-195\"/>\n<text text-anchor=\"start\" x=\"806.1667\" y=\"-179.8\" font-family=\"Times,serif\" font-size=\"14.00\" fill=\"#000000\">mse = 0.109</text>\n<text text-anchor=\"start\" x=\"800.6667\" y=\"-164.8\" font-family=\"Times,serif\" font-size=\"14.00\" fill=\"#000000\">samples = 240</text>\n<text text-anchor=\"start\" x=\"806.1667\" y=\"-149.8\" font-family=\"Times,serif\" font-size=\"14.00\" fill=\"#000000\">value = 9.21</text>\n</g>\n<!-- 9&#45;&gt;11 -->\n<g id=\"edge11\" class=\"edge\">\n<title>9&#45;&gt;11</title>\n<path fill=\"none\" stroke=\"#000000\" d=\"M686.2954,-196.4003C718.0822,-190.7288 753.5334,-184.4035 782.6337,-179.2113\"/>\n<polygon fill=\"#000000\" stroke=\"#000000\" points=\"783.4159,-182.6271 792.6456,-177.4249 782.1863,-175.7359 783.4159,-182.6271\"/>\n</g>\n<!-- 13 -->\n<g id=\"node14\" class=\"node\">\n<title>13</title>\n<polygon fill=\"#e58139\" fill-opacity=\"0.317647\" stroke=\"#000000\" points=\"892.6667,-124 792.6667,-124 792.6667,-71 892.6667,-71 892.6667,-124\"/>\n<text text-anchor=\"start\" x=\"806.1667\" y=\"-108.8\" font-family=\"Times,serif\" font-size=\"14.00\" fill=\"#000000\">mse = 0.072</text>\n<text text-anchor=\"start\" x=\"800.6667\" y=\"-93.8\" font-family=\"Times,serif\" font-size=\"14.00\" fill=\"#000000\">samples = 476</text>\n<text text-anchor=\"start\" x=\"802.1667\" y=\"-78.8\" font-family=\"Times,serif\" font-size=\"14.00\" fill=\"#000000\">value = 9.476</text>\n</g>\n<!-- 12&#45;&gt;13 -->\n<g id=\"edge13\" class=\"edge\">\n<title>12&#45;&gt;13</title>\n<path fill=\"none\" stroke=\"#000000\" d=\"M671.6976,-97.5C706.7109,-97.5 748.663,-97.5 782.2475,-97.5\"/>\n<polygon fill=\"#000000\" stroke=\"#000000\" points=\"782.3847,-101.0001 792.3847,-97.5 782.3847,-94.0001 782.3847,-101.0001\"/>\n</g>\n<!-- 14 -->\n<g id=\"node15\" class=\"node\">\n<title>14</title>\n<polygon fill=\"#e58139\" fill-opacity=\"0.168627\" stroke=\"#000000\" points=\"892.6667,-53 792.6667,-53 792.6667,0 892.6667,0 892.6667,-53\"/>\n<text text-anchor=\"start\" x=\"810.1667\" y=\"-37.8\" font-family=\"Times,serif\" font-size=\"14.00\" fill=\"#000000\">mse = 0.08</text>\n<text text-anchor=\"start\" x=\"800.6667\" y=\"-22.8\" font-family=\"Times,serif\" font-size=\"14.00\" fill=\"#000000\">samples = 308</text>\n<text text-anchor=\"start\" x=\"802.1667\" y=\"-7.8\" font-family=\"Times,serif\" font-size=\"14.00\" fill=\"#000000\">value = 9.251</text>\n</g>\n<!-- 12&#45;&gt;14 -->\n<g id=\"edge14\" class=\"edge\">\n<title>12&#45;&gt;14</title>\n<path fill=\"none\" stroke=\"#000000\" d=\"M671.6976,-76.8685C706.8619,-66.5089 749.0248,-54.0874 782.6813,-44.172\"/>\n<polygon fill=\"#000000\" stroke=\"#000000\" points=\"783.7814,-47.4967 792.3847,-41.3134 781.8032,-40.7821 783.7814,-47.4967\"/>\n</g>\n</g>\n</svg>\n"
          },
          "metadata": {
            "tags": []
          }
        }
      ]
    },
    {
      "metadata": {
        "id": "xFDcbMhxPNoB",
        "colab_type": "text"
      },
      "cell_type": "markdown",
      "source": [
        "Let's see what happens if we create a bigger tree."
      ]
    },
    {
      "metadata": {
        "id": "1hYiChzdPNoF",
        "colab_type": "code",
        "outputId": "895a2e45-1392-4cbc-decc-fd7d98906885",
        "colab": {
          "base_uri": "https://localhost:8080/",
          "height": 34
        }
      },
      "cell_type": "code",
      "source": [
        "m = RandomForestRegressor(n_estimators=1, bootstrap=False, n_jobs=-1)\n",
        "m.fit(X_train, y_train)\n",
        "print_score(m)"
      ],
      "execution_count": 40,
      "outputs": [
        {
          "output_type": "stream",
          "text": [
            "[5.329070518200751e-17, 0.5010661673210489, 1.0, 0.5516283621272147]\n"
          ],
          "name": "stdout"
        }
      ]
    },
    {
      "metadata": {
        "id": "gb-As_wUPNoZ",
        "colab_type": "text"
      },
      "cell_type": "markdown",
      "source": [
        "The training set result looks great! But the validation set is worse than our original model. This is why we need to use *bagging* of multiple trees to get more generalizable results."
      ]
    },
    {
      "metadata": {
        "id": "mui3y-4EPNoj",
        "colab_type": "text"
      },
      "cell_type": "markdown",
      "source": [
        "## Bagging"
      ]
    },
    {
      "metadata": {
        "id": "fPCiS5gRPNok",
        "colab_type": "text"
      },
      "cell_type": "markdown",
      "source": [
        "### Intro to bagging"
      ]
    },
    {
      "metadata": {
        "id": "RhWQuRulPNol",
        "colab_type": "text"
      },
      "cell_type": "markdown",
      "source": [
        "To learn about bagging in random forests, let's start with our basic model again."
      ]
    },
    {
      "metadata": {
        "id": "IFayWJ_5PNoo",
        "colab_type": "code",
        "outputId": "45befad7-a87e-4c38-c0d5-b04de6d8952d",
        "colab": {
          "base_uri": "https://localhost:8080/",
          "height": 87
        }
      },
      "cell_type": "code",
      "source": [
        "m = RandomForestRegressor(n_jobs=-1)\n",
        "m.fit(X_train, y_train)\n",
        "print_score(m)"
      ],
      "execution_count": 41,
      "outputs": [
        {
          "output_type": "stream",
          "text": [
            "/usr/local/lib/python3.6/dist-packages/sklearn/ensemble/forest.py:246: FutureWarning: The default value of n_estimators will change from 10 in version 0.20 to 100 in 0.22.\n",
            "  \"10 in version 0.20 to 100 in 0.22.\", FutureWarning)\n"
          ],
          "name": "stderr"
        },
        {
          "output_type": "stream",
          "text": [
            "[0.11226252815747097, 0.35361649209951457, 0.9726329174997507, 0.7766875186921944]\n"
          ],
          "name": "stdout"
        }
      ]
    },
    {
      "metadata": {
        "id": "3isLZkZ3PNox",
        "colab_type": "text"
      },
      "cell_type": "markdown",
      "source": [
        "We'll grab the predictions for each individual tree, and look at one example."
      ]
    },
    {
      "metadata": {
        "id": "1rTLaOVLPNpF",
        "colab_type": "code",
        "outputId": "0a983ee4-87eb-4ce1-c3ff-5e6da3ed2b30",
        "colab": {
          "base_uri": "https://localhost:8080/",
          "height": 67
        }
      },
      "cell_type": "code",
      "source": [
        "preds = np.stack([t.predict(X_valid) for t in m.estimators_])\n",
        "preds[:,0], np.mean(preds[:,0]), y_valid[0]"
      ],
      "execution_count": 45,
      "outputs": [
        {
          "output_type": "execute_result",
          "data": {
            "text/plain": [
              "(array([9.10498, 9.61581, 9.04782, 8.9872 , 9.39266, 9.3501 , 9.10498, 9.10498, 9.61581, 9.87817]),\n",
              " 9.320250277993747,\n",
              " 9.104979856318357)"
            ]
          },
          "metadata": {
            "tags": []
          },
          "execution_count": 45
        }
      ]
    },
    {
      "metadata": {
        "id": "QOBK7ZZBPNpi",
        "colab_type": "code",
        "outputId": "be376af3-142b-4cb7-e554-8d0325f40862",
        "colab": {
          "base_uri": "https://localhost:8080/",
          "height": 34
        }
      },
      "cell_type": "code",
      "source": [
        "preds.shape"
      ],
      "execution_count": 46,
      "outputs": [
        {
          "output_type": "execute_result",
          "data": {
            "text/plain": [
              "(10, 12000)"
            ]
          },
          "metadata": {
            "tags": []
          },
          "execution_count": 46
        }
      ]
    },
    {
      "metadata": {
        "id": "VAH1EWwOPNps",
        "colab_type": "code",
        "outputId": "a7c884c8-df03-4e50-edd0-29da8e81dd43",
        "colab": {
          "base_uri": "https://localhost:8080/",
          "height": 265
        }
      },
      "cell_type": "code",
      "source": [
        "plt.plot([metrics.r2_score(y_valid, np.mean(preds[:i+1], axis=0)) for i in range(10)]);"
      ],
      "execution_count": 47,
      "outputs": [
        {
          "output_type": "display_data",
          "data": {
            "image/png": "[encoded data removed]",
            "text/plain": [
              "<Figure size 432x288 with 1 Axes>"
            ]
          },
          "metadata": {
            "tags": []
          }
        }
      ]
    },
    {
      "metadata": {
        "id": "kDfwou62PNp8",
        "colab_type": "text"
      },
      "cell_type": "markdown",
      "source": [
        "The shape of this curve suggests that adding more trees isn't going to help us much. Let's check. (Compare this to our original model on a sample)"
      ]
    },
    {
      "metadata": {
        "id": "9i7bQFHpPNqD",
        "colab_type": "code",
        "outputId": "dfdae61e-3b7d-4c8e-9f16-e2c9b1c1afa0",
        "colab": {
          "base_uri": "https://localhost:8080/",
          "height": 34
        }
      },
      "cell_type": "code",
      "source": [
        "m = RandomForestRegressor(n_estimators=20, n_jobs=-1)\n",
        "m.fit(X_train, y_train)\n",
        "print_score(m)"
      ],
      "execution_count": 48,
      "outputs": [
        {
          "output_type": "stream",
          "text": [
            "[0.10375413778115025, 0.33891539258990333, 0.9766240259703354, 0.7948693475159488]\n"
          ],
          "name": "stdout"
        }
      ]
    },
    {
      "metadata": {
        "id": "G7EQPhnkPNqP",
        "colab_type": "code",
        "outputId": "c72ba2c9-0eb8-4334-e089-f02ba9129ac9",
        "colab": {
          "base_uri": "https://localhost:8080/",
          "height": 34
        }
      },
      "cell_type": "code",
      "source": [
        "m = RandomForestRegressor(n_estimators=40, n_jobs=-1)\n",
        "m.fit(X_train, y_train)\n",
        "print_score(m)"
      ],
      "execution_count": 49,
      "outputs": [
        {
          "output_type": "stream",
          "text": [
            "[0.09722194603511808, 0.3438932650899087, 0.9794747958969315, 0.788799318574213]\n"
          ],
          "name": "stdout"
        }
      ]
    },
    {
      "metadata": {
        "id": "HIdO9e-CPNq0",
        "colab_type": "code",
        "outputId": "75660fd6-d643-4a49-b85b-b141b6e9651f",
        "colab": {
          "base_uri": "https://localhost:8080/",
          "height": 34
        }
      },
      "cell_type": "code",
      "source": [
        "m = RandomForestRegressor(n_estimators=80, n_jobs=-1)\n",
        "m.fit(X_train, y_train)\n",
        "print_score(m)"
      ],
      "execution_count": 50,
      "outputs": [
        {
          "output_type": "stream",
          "text": [
            "[0.094474408968948, 0.3368856612227549, 0.9806185068490741, 0.7973190052100447]\n"
          ],
          "name": "stdout"
        }
      ]
    },
    {
      "metadata": {
        "id": "eUoyk2H_PNq-",
        "colab_type": "text"
      },
      "cell_type": "markdown",
      "source": [
        "### Out-of-bag (OOB) score"
      ]
    },
    {
      "metadata": {
        "id": "JB05yYALPNq_",
        "colab_type": "text"
      },
      "cell_type": "markdown",
      "source": [
        "Is our validation set worse than our training set because we're over-fitting, or because the validation set is for a different time period, or a bit of both? With the existing information we've shown, we can't tell. However, random forests have a very clever trick called *out-of-bag (OOB) error* which can handle this (and more!)\n",
        "\n",
        "The idea is to calculate error on the training set, but only include the trees in the calculation of a row's error where that row was *not* included in training that tree. This allows us to see whether the model is over-fitting, without needing a separate validation set.\n",
        "\n",
        "This also has the benefit of allowing us to see whether our model generalizes, even if we only have a small amount of data so want to avoid separating some out to create a validation set.\n",
        "\n",
        "This is as simple as adding one more parameter to our model constructor. We print the OOB error last in our `print_score` function below."
      ]
    },
    {
      "metadata": {
        "id": "HJUCnurmPNrB",
        "colab_type": "code",
        "outputId": "3abd3447-7a0f-4872-f50c-4a14b43e51e8",
        "colab": {
          "base_uri": "https://localhost:8080/",
          "height": 34
        }
      },
      "cell_type": "code",
      "source": [
        "m = RandomForestRegressor(n_estimators=40, n_jobs=-1, oob_score=True)\n",
        "m.fit(X_train, y_train)\n",
        "print_score(m)"
      ],
      "execution_count": 51,
      "outputs": [
        {
          "output_type": "stream",
          "text": [
            "[0.09715463909719367, 0.3371179846168714, 0.9795032053351534, 0.7970393627180709, 0.8525010025472498]\n"
          ],
          "name": "stdout"
        }
      ]
    },
    {
      "metadata": {
        "id": "1s5mwnmvPNrR",
        "colab_type": "text"
      },
      "cell_type": "markdown",
      "source": [
        "This shows that our validation set time difference is making an impact, as is model over-fitting."
      ]
    },
    {
      "metadata": {
        "id": "5YlbiR3YPNrW",
        "colab_type": "text"
      },
      "cell_type": "markdown",
      "source": [
        "## Reducing over-fitting"
      ]
    },
    {
      "metadata": {
        "id": "R0MK4SNlPNrY",
        "colab_type": "text"
      },
      "cell_type": "markdown",
      "source": [
        "### Subsampling"
      ]
    },
    {
      "metadata": {
        "id": "PMl-uh8bPNrZ",
        "colab_type": "text"
      },
      "cell_type": "markdown",
      "source": [
        "It turns out that one of the easiest ways to avoid over-fitting is also one of the best ways to speed up analysis: *subsampling*. Let's return to using our full dataset, so that we can demonstrate the impact of this technique."
      ]
    },
    {
      "metadata": {
        "id": "RNtAmggMPNrc",
        "colab_type": "code",
        "colab": {}
      },
      "cell_type": "code",
      "source": [
        "df_trn, y_trn, nas = proc_df(df_raw, 'SalePrice')\n",
        "X_train, X_valid = split_vals(df_trn, n_trn)\n",
        "y_train, y_valid = split_vals(y_trn, n_trn)"
      ],
      "execution_count": 0,
      "outputs": []
    },
    {
      "metadata": {
        "id": "9uDXo7s-PNrs",
        "colab_type": "text"
      },
      "cell_type": "markdown",
      "source": [
        "The basic idea is this: rather than limit the total amount of data that our model can access, let's instead limit it to a *different* random subset per tree. That way, given enough trees, the model can still see *all* the data, but for each individual tree it'll be just as fast as if we had cut down our dataset as before."
      ]
    },
    {
      "metadata": {
        "id": "I_jzkC9_PNrz",
        "colab_type": "code",
        "colab": {}
      },
      "cell_type": "code",
      "source": [
        "set_rf_samples(20000)"
      ],
      "execution_count": 0,
      "outputs": []
    },
    {
      "metadata": {
        "id": "5-SdhhjIPNsA",
        "colab_type": "code",
        "outputId": "3715975a-c565-4474-844f-20167bf1b84c",
        "colab": {
          "base_uri": "https://localhost:8080/",
          "height": 121
        }
      },
      "cell_type": "code",
      "source": [
        "m = RandomForestRegressor(n_jobs=-1, oob_score=True)\n",
        "%time m.fit(X_train, y_train)\n",
        "print_score(m)"
      ],
      "execution_count": 54,
      "outputs": [
        {
          "output_type": "stream",
          "text": [
            "/usr/local/lib/python3.6/dist-packages/sklearn/ensemble/forest.py:246: FutureWarning: The default value of n_estimators will change from 10 in version 0.20 to 100 in 0.22.\n",
            "  \"10 in version 0.20 to 100 in 0.22.\", FutureWarning)\n"
          ],
          "name": "stderr"
        },
        {
          "output_type": "stream",
          "text": [
            "CPU times: user 10.7 s, sys: 178 ms, total: 10.9 s\n",
            "Wall time: 7.06 s\n",
            "[0.23924366581389986, 0.2784461169830802, 0.8803767155114633, 0.861538093943557, 0.8679064548919886]\n"
          ],
          "name": "stdout"
        }
      ]
    },
    {
      "metadata": {
        "id": "iXrM1pi6PNsS",
        "colab_type": "text"
      },
      "cell_type": "markdown",
      "source": [
        "Since each additional tree allows the model to see more data, this approach can make additional trees more useful."
      ]
    },
    {
      "metadata": {
        "id": "eXRJy3BQPNsV",
        "colab_type": "code",
        "outputId": "57273577-e49d-41e7-b81b-9665f2a23da2",
        "colab": {
          "base_uri": "https://localhost:8080/",
          "height": 34
        }
      },
      "cell_type": "code",
      "source": [
        "m = RandomForestRegressor(n_estimators=40, n_jobs=-1, oob_score=True)\n",
        "m.fit(X_train, y_train)\n",
        "print_score(m)"
      ],
      "execution_count": 55,
      "outputs": [
        {
          "output_type": "stream",
          "text": [
            "[0.22700036826744235, 0.2615480876669315, 0.8923068823743985, 0.877833798119842, 0.8807912299930015]\n"
          ],
          "name": "stdout"
        }
      ]
    },
    {
      "metadata": {
        "id": "Hq72hk_FPNsr",
        "colab_type": "text"
      },
      "cell_type": "markdown",
      "source": [
        "### Tree building parameters"
      ]
    },
    {
      "metadata": {
        "id": "YWcsDvxaPNsw",
        "colab_type": "text"
      },
      "cell_type": "markdown",
      "source": [
        "We revert to using a full bootstrap sample in order to show the impact of other over-fitting avoidance methods."
      ]
    },
    {
      "metadata": {
        "id": "EXN_-MJqPNs1",
        "colab_type": "code",
        "colab": {}
      },
      "cell_type": "code",
      "source": [
        "reset_rf_samples()"
      ],
      "execution_count": 0,
      "outputs": []
    },
    {
      "metadata": {
        "id": "LKrbNZ0ZPNs_",
        "colab_type": "text"
      },
      "cell_type": "markdown",
      "source": [
        "Let's get a baseline for this full set to compare to."
      ]
    },
    {
      "metadata": {
        "id": "g7mp95GmPNtD",
        "colab_type": "code",
        "colab": {}
      },
      "cell_type": "code",
      "source": [
        "def dectree_max_depth(tree):\n",
        "    children_left = tree.children_left\n",
        "    children_right = tree.children_right\n",
        "\n",
        "    def walk(node_id):\n",
        "        if (children_left[node_id] != children_right[node_id]):\n",
        "            left_max = 1 + walk(children_left[node_id])\n",
        "            right_max = 1 + walk(children_right[node_id])\n",
        "            return max(left_max, right_max)\n",
        "        else: # leaf\n",
        "            return 1\n",
        "\n",
        "    root_node_id = 0\n",
        "    return walk(root_node_id)"
      ],
      "execution_count": 0,
      "outputs": []
    },
    {
      "metadata": {
        "id": "n0H_v-z3PNtN",
        "colab_type": "code",
        "outputId": "314b217a-ed7d-4f21-b2dc-e3ca1cc1ebd3",
        "colab": {
          "base_uri": "https://localhost:8080/",
          "height": 54
        }
      },
      "cell_type": "code",
      "source": [
        "m = RandomForestRegressor(n_estimators=40, n_jobs=-1, oob_score=True)\n",
        "m.fit(X_train, y_train)\n",
        "print_score(m)"
      ],
      "execution_count": 58,
      "outputs": [
        {
          "output_type": "stream",
          "text": [
            "[0.07824482977381379, 0.23712008162922246, 0.9872048280619101, 0.8995882246901771, 0.9085376003725273]\n"
          ],
          "name": "stdout"
        }
      ]
    },
    {
      "metadata": {
        "id": "Bnp1p1nbPNuQ",
        "colab_type": "code",
        "colab": {}
      },
      "cell_type": "code",
      "source": [
        "t=m.estimators_[0].tree_"
      ],
      "execution_count": 0,
      "outputs": []
    },
    {
      "metadata": {
        "id": "DFt7hHl5PNuZ",
        "colab_type": "code",
        "outputId": "48d31416-166f-4995-d177-e8fa1434a900",
        "colab": {
          "base_uri": "https://localhost:8080/",
          "height": 34
        }
      },
      "cell_type": "code",
      "source": [
        "dectree_max_depth(t)"
      ],
      "execution_count": 60,
      "outputs": [
        {
          "output_type": "execute_result",
          "data": {
            "text/plain": [
              "46"
            ]
          },
          "metadata": {
            "tags": []
          },
          "execution_count": 60
        }
      ]
    },
    {
      "metadata": {
        "id": "xCO37RCRPNuk",
        "colab_type": "code",
        "outputId": "9b38e13a-3721-4cba-c349-9efa963ec0f0",
        "colab": {
          "base_uri": "https://localhost:8080/",
          "height": 34
        }
      },
      "cell_type": "code",
      "source": [
        "m = RandomForestRegressor(n_estimators=40, min_samples_leaf=5, n_jobs=-1, oob_score=True)\n",
        "m.fit(X_train, y_train)\n",
        "print_score(m)"
      ],
      "execution_count": 61,
      "outputs": [
        {
          "output_type": "stream",
          "text": [
            "[0.14065022782819234, 0.23454317562107538, 0.9586556940254986, 0.9017588186888541, 0.9070350484470708]\n"
          ],
          "name": "stdout"
        }
      ]
    },
    {
      "metadata": {
        "id": "ng7tSoHcPNux",
        "colab_type": "code",
        "colab": {}
      },
      "cell_type": "code",
      "source": [
        "t=m.estimators_[0].tree_"
      ],
      "execution_count": 0,
      "outputs": []
    },
    {
      "metadata": {
        "id": "vtIs2ZS-PNu4",
        "colab_type": "code",
        "outputId": "adc7c2dc-4449-48a4-9871-d4fc2b138bb8",
        "colab": {
          "base_uri": "https://localhost:8080/",
          "height": 34
        }
      },
      "cell_type": "code",
      "source": [
        "dectree_max_depth(t)"
      ],
      "execution_count": 63,
      "outputs": [
        {
          "output_type": "execute_result",
          "data": {
            "text/plain": [
              "40"
            ]
          },
          "metadata": {
            "tags": []
          },
          "execution_count": 63
        }
      ]
    },
    {
      "metadata": {
        "id": "ytmM7M5PPNvC",
        "colab_type": "text"
      },
      "cell_type": "markdown",
      "source": [
        "Another way to reduce over-fitting is to grow our trees less deeply. We do this by specifying (with `min_samples_leaf`) that we require some minimum number of rows in every leaf node. This has two benefits:\n",
        "\n",
        "- There are less decision rules for each leaf node; simpler models should generalize better\n",
        "- The predictions are made by averaging more rows in the leaf node, resulting in less volatility"
      ]
    },
    {
      "metadata": {
        "id": "KW4yLLBWPNvG",
        "colab_type": "code",
        "outputId": "8120aeec-bb58-435d-f584-a7b18e84d21f",
        "colab": {
          "base_uri": "https://localhost:8080/",
          "height": 34
        }
      },
      "cell_type": "code",
      "source": [
        "m = RandomForestRegressor(n_estimators=40, min_samples_leaf=3, n_jobs=-1, oob_score=True)\n",
        "m.fit(X_train, y_train)\n",
        "print_score(m)"
      ],
      "execution_count": 64,
      "outputs": [
        {
          "output_type": "stream",
          "text": [
            "[0.11512043543097569, 0.23341220823405884, 0.9723025572543966, 0.902703972530393, 0.9083207867121288]\n"
          ],
          "name": "stdout"
        }
      ]
    },
    {
      "metadata": {
        "id": "6M2EBHqhPNva",
        "colab_type": "text"
      },
      "cell_type": "markdown",
      "source": [
        "We can also increase the amount of variation amongst the trees by not only use a sample of rows for each tree, but to also using a sample of *columns* for each *split*. We do this by specifying `max_features`, which is the proportion of features to randomly select from at each split."
      ]
    },
    {
      "metadata": {
        "id": "RL9m94HWPNvt",
        "colab_type": "text"
      },
      "cell_type": "markdown",
      "source": [
        "- None\n",
        "- 0.5\n",
        "- 'sqrt'"
      ]
    },
    {
      "metadata": {
        "id": "k0HBES3jPNv3",
        "colab_type": "text"
      },
      "cell_type": "markdown",
      "source": [
        "- 1, 3, 5, 10, 25, 100"
      ]
    },
    {
      "metadata": {
        "id": "r_H9q5K9PNv4",
        "colab_type": "code",
        "outputId": "67aa4f65-00dd-46e2-dd83-e6d8b7d7491f",
        "colab": {
          "base_uri": "https://localhost:8080/",
          "height": 34
        }
      },
      "cell_type": "code",
      "source": [
        "m = RandomForestRegressor(n_estimators=40, min_samples_leaf=3, max_features=0.5, n_jobs=-1, oob_score=True)\n",
        "m.fit(X_train, y_train)\n",
        "print_score(m)"
      ],
      "execution_count": 65,
      "outputs": [
        {
          "output_type": "stream",
          "text": [
            "[0.11906623578560493, 0.22883937615182873, 0.9703713356683227, 0.9064789262920077, 0.9118608237129646]\n"
          ],
          "name": "stdout"
        }
      ]
    },
    {
      "metadata": {
        "id": "-Ysq6sI3PNwA",
        "colab_type": "text"
      },
      "cell_type": "markdown",
      "source": [
        "We can't compare our results directly with the Kaggle competition, since it used a different validation set (and we can no longer to submit to this competition) - but we can at least see that we're getting similar results to the winners based on the dataset we have.\n",
        "\n",
        "The sklearn docs [show an example](http://scikit-learn.org/stable/auto_examples/ensemble/plot_ensemble_oob.html) of different `max_features` methods with increasing numbers of trees - as you see, using a subset of features on each split requires using more trees, but results in better models:\n",
        "![sklearn max_features chart](http://scikit-learn.org/stable/_images/sphx_glr_plot_ensemble_oob_001.png)"
      ]
    }
  ]
}